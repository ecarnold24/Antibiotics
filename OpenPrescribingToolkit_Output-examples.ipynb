{
 "cells": [
  {
   "cell_type": "code",
   "execution_count": 122,
   "metadata": {},
   "outputs": [],
   "source": [
    "#step 1 import required packages\n",
    "import pandas as pd # load pandas package for importing csv files in correct format\n",
    "# import as defines the identifier you want to use for the function e.g in this case \n",
    "# pd will call the pandas package\n",
    "import matplotlib # load matplotlib package for plotting graphs\n",
    "import os\n",
    "import matplotlib.pyplot as plt #import matplotlib.pyplot package for plotting boxplots"
   ]
  },
  {
   "cell_type": "code",
   "execution_count": 24,
   "metadata": {},
   "outputs": [],
   "source": [
    "def import_OP_data(filename):\n",
    "    'This function imports an csv file downloaded from the Open Prescribing website into a dataframe for analysis in Python'\n",
    "    data = pd.read_csv(filename, sep=',')#load OP data to filter out a subset for testing all scripts\n",
    "    dataframe = pd.DataFrame(data) #Convert imported data to a dataframe using pandas\n",
    "    return print('These are the first 3 rows of the dataset. Does it look correct?',\n",
    "                 dataframe.head(3)) #view the first three lines of the dataframe to check import has been successful"
   ]
  },
  {
   "cell_type": "code",
   "execution_count": 25,
   "metadata": {},
   "outputs": [
    {
     "name": "stdout",
     "output_type": "stream",
     "text": [
      "These are the first 3 rows of the dataset. Does it look correct?             measure  org_type  org_id                                org_name  \\\n",
      "0  ktt9_antibiotics  practice  P84650                  THE ALEXANDRA PRACTICE   \n",
      "1  ktt9_antibiotics  practice  P84673  ANCOATS URBAN VILLAGE MEDICAL PRACTICE   \n",
      "2  ktt9_antibiotics  practice  P84071                       WILBRAHAM SURGERY   \n",
      "\n",
      "         date  numerator  denominator  calc_value  percentile  \n",
      "0  2014-10-01      199.0  3106.653507    0.064056    9.181078  \n",
      "1  2014-10-01      463.0  4252.799604    0.108869   75.864700  \n",
      "2  2014-10-01      219.0  2275.856965    0.096227   57.540692  \n"
     ]
    }
   ],
   "source": [
    "import_OP_data('measures.csv')"
   ]
  },
  {
   "cell_type": "code",
   "execution_count": 51,
   "metadata": {},
   "outputs": [],
   "source": [
    "def remove_OP_artifacts(dataframe):\n",
    "    'This function removes rows with zero prescripitoons from the dataset'\n",
    "    dataframe_Sort = dataframe.sort_values(\"numerator\")#sort dataframe based on number of prescriptions\n",
    "    PCo = len(dataframe_Sort[dataframe_Sort['numerator'] == 0.0]) #count number of rows with 0 prescriptions\n",
    "    AntiP =  dataframe_Sort['numerator']>0.0 #Identify all rows with a prescription value greater than 0.0\n",
    "    df_SF = dataframe_Sort[AntiP] #Filter the dataset, keeping all rows with prescriptions >0 (i.e. = 'TRUE')\n",
    "    #First values of prescripitions in dataset = 1.0\n",
    "    #Rows with values of 0 have been filtered correctly\n",
    "    #Antibiotics per 1000. Values =0.0 = <1 prescription per 1000 people? Check openprescribing.net description?\n",
    "    #Check all rows with 0 prescriptions have been removed\n",
    "    df_SF_min = min(df_SF.numerator) # check minimum value is not 0.0\n",
    "    if PCo>0: #Create an if statement to interpret the presence of rows with 0 prescriptions\n",
    "        return print('This dataset contains', PCo, \n",
    "                  'entries with 0 prescriptions. These entries have been removed from the dataset.', \n",
    "                  'The smallest number of prescriptions is:', df_SF_min, 'per 1000 patients')\n",
    "                    #print warning meassage to user outlining the number of blank rows detected using an if statement \n",
    "    else:\n",
    "        return print('This dataset contains', PCo, \n",
    "          'entries with 0 prescriptions. No entries have been removed from the dataset. The smallest number of prescriptions is:',\n",
    "                 PCo) #Notify the user if no rows were found with zero prescriptions"
   ]
  },
  {
   "cell_type": "code",
   "execution_count": 55,
   "metadata": {},
   "outputs": [
    {
     "name": "stdout",
     "output_type": "stream",
     "text": [
      "This dataset contains 345 entries with 0 prescriptions. These entries have been removed from the dataset. The smallest number of prescriptions is: 1.0 per 1000 patients\n"
     ]
    }
   ],
   "source": [
    "remove_OP_artifacts(dataframe)"
   ]
  },
  {
   "cell_type": "code",
   "execution_count": 120,
   "metadata": {},
   "outputs": [],
   "source": [
    "def remove_OP_IQRoutliers(dataframe):\n",
    "    'This script identifies outliers within the dataset, based on IQR criteria'\n",
    "    dataframe_Sort = dataframe.sort_values(\"numerator\")#sort dataframe based on number of prescriptions\n",
    "    AntiP =  dataframe_Sort['numerator']>0.0 #Identify all rows with a prescription value greater than 0.0\n",
    "    df_SF = dataframe_Sort[AntiP]\n",
    "    #Calculate IQR\n",
    "    q1 = df_SF['numerator'].quantile(0.25)#Q1\n",
    "    q3 = df_SF['numerator'].quantile(0.75)#Q3\n",
    "    iqr = df_SF['numerator'].quantile(0.75)-df_SF['numerator'].quantile(0.25) #calculate IQR\n",
    "    #Calclate lower limit for outliers\n",
    "    LowOut = q1 - 1.5 * iqr #lower bound\n",
    "    #Calculate upper limit for outliers\n",
    "    HighOut = q3 + 1.5 * iqr #upper bound\n",
    "    # Identify all rows with high and low outliers \n",
    "    Outliers = df_SF[(df_SF['numerator'] < LowOut) | (df_SF['numerator'] > HighOut)] #pipe (|) = OR\n",
    "    #count number of outliers and print message to inform the user\n",
    "    NoOutliers = len(Outliers['numerator'])\n",
    "    plt.boxplot(Outliers.numerator) #plot boxplot for outliers...\n",
    "    GPlist=Outliers.org_name.unique() # list unique name of practices with prescription outliers.\n",
    "    #This list of names can be used to plot trends i.e. the graphical functions developed below.\n",
    "    return print(\"The interquartile range:\", iqr, '\\nThe lower boundary for outliers is:', LowOut, \n",
    "                 '\\nThe upper boundary for outliers is:', HighOut, '\\nThis dataset contains', NoOutliers, \n",
    "                 'Outliers, represented by the circles in the boxplot below.', \n",
    "                 '\\nThis is a list of all the GP practices where antibioitc prescrition numbers have been identified as outliers:\\n', GPlist)\n",
    "    plt.show() "
   ]
  },
  {
   "cell_type": "code",
   "execution_count": 121,
   "metadata": {},
   "outputs": [
    {
     "name": "stdout",
     "output_type": "stream",
     "text": [
      "The interquartile range: 219.0 \n",
      "The lower boundary for outliers is: -151.5 \n",
      "The upper boundary for outliers is: 724.5 \n",
      "This dataset contains 154 Outliers, represented by the circles in the boxplot below. \n",
      "This is a list of all the GP practices where antibioitc prescrition numbers have been identified as outliers:\n",
      " ['BOWLAND MEDICAL PRACTICE' 'BENCHILL MEDICAL PRACTICE'\n",
      " 'THE AVENUE MEDICAL CENTRE' 'VALENTINE MEDICAL CENTRE'\n",
      " 'NEW COLLEGIATE MEDICAL CENTRE' \"ST GEORGE'S MEDICAL CENTRE\"\n",
      " 'GORTON MEDICAL CENTRE' 'DIDSBURY MEDICAL CENTRE - DR WHITAKER'\n",
      " 'NORTHENDEN GROUP PRACTICE' 'BODEY MEDICAL CENTRE'\n",
      " 'PEEL HALL MEDICAL CENTRE' 'THE ROBERT DARBISHIRE PRACTICE'\n",
      " 'CITY HEALTH CENTRE']\n"
     ]
    },
    {
     "data": {
      "image/png": "[encoded data removed]",
      "text/plain": [
       "<Figure size 432x288 with 1 Axes>"
      ]
     },
     "metadata": {
      "needs_background": "light"
     },
     "output_type": "display_data"
    }
   ],
   "source": [
    "remove_OP_IQRoutliers(dataframe)"
   ]
  }
 ],
 "metadata": {
  "kernelspec": {
   "display_name": "Python 3",
   "language": "python",
   "name": "python3"
  },
  "language_info": {
   "codemirror_mode": {
    "name": "ipython",
    "version": 3
   },
   "file_extension": ".py",
   "mimetype": "text/x-python",
   "name": "python",
   "nbconvert_exporter": "python",
   "pygments_lexer": "ipython3",
   "version": "3.7.3"
  }
 },
 "nbformat": 4,
 "nbformat_minor": 2
}
