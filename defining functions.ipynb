{
 "cells": [
  {
   "cell_type": "code",
   "execution_count": 4,
   "metadata": {},
   "outputs": [],
   "source": [
    "#step 1 import required packages\n",
    "import pandas as pd # load pandas package for importing csv files in correct format\n",
    "# import as defines the identifier you want to use for the function e.g in this case \n",
    "# pd will call the pandas package\n",
    "import matplotlib # load matplotlib package for plotting graphs\n",
    "import os\n",
    "\n"
   ]
  },
  {
   "cell_type": "code",
   "execution_count": 6,
   "metadata": {},
   "outputs": [],
   "source": [
    "#step 2 load open prescribing measures data to filter out a subset for testing all scripts\n",
    "data = pd.read_csv('measures.csv', sep=',') #data is sepperated by , commas\n"
   ]
  },
  {
   "cell_type": "code",
   "execution_count": 7,
   "metadata": {},
   "outputs": [
    {
     "data": {
      "text/html": [
       "<div>\n",
       "<style scoped>\n",
       "    .dataframe tbody tr th:only-of-type {\n",
       "        vertical-align: middle;\n",
       "    }\n",
       "\n",
       "    .dataframe tbody tr th {\n",
       "        vertical-align: top;\n",
       "    }\n",
       "\n",
       "    .dataframe thead th {\n",
       "        text-align: right;\n",
       "    }\n",
       "</style>\n",
       "<table border=\"1\" class=\"dataframe\">\n",
       "  <thead>\n",
       "    <tr style=\"text-align: right;\">\n",
       "      <th></th>\n",
       "      <th>measure</th>\n",
       "      <th>org_type</th>\n",
       "      <th>org_id</th>\n",
       "      <th>org_name</th>\n",
       "      <th>date</th>\n",
       "      <th>numerator</th>\n",
       "      <th>denominator</th>\n",
       "      <th>calc_value</th>\n",
       "      <th>percentile</th>\n",
       "    </tr>\n",
       "  </thead>\n",
       "  <tbody>\n",
       "    <tr>\n",
       "      <th>0</th>\n",
       "      <td>ktt9_antibiotics</td>\n",
       "      <td>practice</td>\n",
       "      <td>P84650</td>\n",
       "      <td>THE ALEXANDRA PRACTICE</td>\n",
       "      <td>2014-10-01</td>\n",
       "      <td>199.0</td>\n",
       "      <td>3106.653507</td>\n",
       "      <td>0.064056</td>\n",
       "      <td>9.181078</td>\n",
       "    </tr>\n",
       "    <tr>\n",
       "      <th>1</th>\n",
       "      <td>ktt9_antibiotics</td>\n",
       "      <td>practice</td>\n",
       "      <td>P84673</td>\n",
       "      <td>ANCOATS URBAN VILLAGE MEDICAL PRACTICE</td>\n",
       "      <td>2014-10-01</td>\n",
       "      <td>463.0</td>\n",
       "      <td>4252.799604</td>\n",
       "      <td>0.108869</td>\n",
       "      <td>75.864700</td>\n",
       "    </tr>\n",
       "    <tr>\n",
       "      <th>2</th>\n",
       "      <td>ktt9_antibiotics</td>\n",
       "      <td>practice</td>\n",
       "      <td>P84071</td>\n",
       "      <td>WILBRAHAM SURGERY</td>\n",
       "      <td>2014-10-01</td>\n",
       "      <td>219.0</td>\n",
       "      <td>2275.856965</td>\n",
       "      <td>0.096227</td>\n",
       "      <td>57.540692</td>\n",
       "    </tr>\n",
       "  </tbody>\n",
       "</table>\n",
       "</div>"
      ],
      "text/plain": [
       "            measure  org_type  org_id                                org_name  \\\n",
       "0  ktt9_antibiotics  practice  P84650                  THE ALEXANDRA PRACTICE   \n",
       "1  ktt9_antibiotics  practice  P84673  ANCOATS URBAN VILLAGE MEDICAL PRACTICE   \n",
       "2  ktt9_antibiotics  practice  P84071                       WILBRAHAM SURGERY   \n",
       "\n",
       "         date  numerator  denominator  calc_value  percentile  \n",
       "0  2014-10-01      199.0  3106.653507    0.064056    9.181078  \n",
       "1  2014-10-01      463.0  4252.799604    0.108869   75.864700  \n",
       "2  2014-10-01      219.0  2275.856965    0.096227   57.540692  "
      ]
     },
     "execution_count": 7,
     "metadata": {},
     "output_type": "execute_result"
    }
   ],
   "source": [
    "#step 3 check data has imported correctly \n",
    "data.head(3) # Show top 3 entries to confirm successful data import"
   ]
  },
  {
   "cell_type": "code",
   "execution_count": 8,
   "metadata": {},
   "outputs": [
    {
     "data": {
      "text/html": [
       "<div>\n",
       "<style scoped>\n",
       "    .dataframe tbody tr th:only-of-type {\n",
       "        vertical-align: middle;\n",
       "    }\n",
       "\n",
       "    .dataframe tbody tr th {\n",
       "        vertical-align: top;\n",
       "    }\n",
       "\n",
       "    .dataframe thead th {\n",
       "        text-align: right;\n",
       "    }\n",
       "</style>\n",
       "<table border=\"1\" class=\"dataframe\">\n",
       "  <thead>\n",
       "    <tr style=\"text-align: right;\">\n",
       "      <th></th>\n",
       "      <th>measure</th>\n",
       "      <th>org_type</th>\n",
       "      <th>org_id</th>\n",
       "      <th>org_name</th>\n",
       "      <th>date</th>\n",
       "      <th>numerator</th>\n",
       "      <th>denominator</th>\n",
       "      <th>calc_value</th>\n",
       "      <th>percentile</th>\n",
       "    </tr>\n",
       "  </thead>\n",
       "  <tbody>\n",
       "    <tr>\n",
       "      <th>0</th>\n",
       "      <td>ktt9_antibiotics</td>\n",
       "      <td>practice</td>\n",
       "      <td>P84650</td>\n",
       "      <td>THE ALEXANDRA PRACTICE</td>\n",
       "      <td>2014-10-01</td>\n",
       "      <td>199.0</td>\n",
       "      <td>3106.653507</td>\n",
       "      <td>0.064056</td>\n",
       "      <td>9.181078</td>\n",
       "    </tr>\n",
       "    <tr>\n",
       "      <th>1</th>\n",
       "      <td>ktt9_antibiotics</td>\n",
       "      <td>practice</td>\n",
       "      <td>P84673</td>\n",
       "      <td>ANCOATS URBAN VILLAGE MEDICAL PRACTICE</td>\n",
       "      <td>2014-10-01</td>\n",
       "      <td>463.0</td>\n",
       "      <td>4252.799604</td>\n",
       "      <td>0.108869</td>\n",
       "      <td>75.864700</td>\n",
       "    </tr>\n",
       "    <tr>\n",
       "      <th>2</th>\n",
       "      <td>ktt9_antibiotics</td>\n",
       "      <td>practice</td>\n",
       "      <td>P84071</td>\n",
       "      <td>WILBRAHAM SURGERY</td>\n",
       "      <td>2014-10-01</td>\n",
       "      <td>219.0</td>\n",
       "      <td>2275.856965</td>\n",
       "      <td>0.096227</td>\n",
       "      <td>57.540692</td>\n",
       "    </tr>\n",
       "  </tbody>\n",
       "</table>\n",
       "</div>"
      ],
      "text/plain": [
       "            measure  org_type  org_id                                org_name  \\\n",
       "0  ktt9_antibiotics  practice  P84650                  THE ALEXANDRA PRACTICE   \n",
       "1  ktt9_antibiotics  practice  P84673  ANCOATS URBAN VILLAGE MEDICAL PRACTICE   \n",
       "2  ktt9_antibiotics  practice  P84071                       WILBRAHAM SURGERY   \n",
       "\n",
       "         date  numerator  denominator  calc_value  percentile  \n",
       "0  2014-10-01      199.0  3106.653507    0.064056    9.181078  \n",
       "1  2014-10-01      463.0  4252.799604    0.108869   75.864700  \n",
       "2  2014-10-01      219.0  2275.856965    0.096227   57.540692  "
      ]
     },
     "execution_count": 8,
     "metadata": {},
     "output_type": "execute_result"
    }
   ],
   "source": [
    "dataframe = pd.DataFrame(data) #Convert imported data to a dataframe using pandas\n",
    "dataframe.head(3) #view the first three lines of the dataframe to check import has been successful"
   ]
  },
  {
   "cell_type": "code",
   "execution_count": 24,
   "metadata": {},
   "outputs": [],
   "source": [
    "def import_OP_data(filename):\n",
    "    'This function imports an csv file downloaded from the Open Prescribing website into a dataframe for analysis in Python'\n",
    "    data = pd.read_csv(filename, sep=',')#load OP data to filter out a subset for testing all scripts\n",
    "    dataframe = pd.DataFrame(data) #Convert imported data to a dataframe using pandas\n",
    "    return print('These are the first 3 rows of the dataset. Does it look correct?',\n",
    "                 dataframe.head(3)) #view the first three lines of the dataframe to check import has been successful"
   ]
  },
  {
   "cell_type": "code",
   "execution_count": 25,
   "metadata": {},
   "outputs": [
    {
     "name": "stdout",
     "output_type": "stream",
     "text": [
      "These are the first 3 rows of the dataset. Does it look correct?             measure  org_type  org_id                                org_name  \\\n",
      "0  ktt9_antibiotics  practice  P84650                  THE ALEXANDRA PRACTICE   \n",
      "1  ktt9_antibiotics  practice  P84673  ANCOATS URBAN VILLAGE MEDICAL PRACTICE   \n",
      "2  ktt9_antibiotics  practice  P84071                       WILBRAHAM SURGERY   \n",
      "\n",
      "         date  numerator  denominator  calc_value  percentile  \n",
      "0  2014-10-01      199.0  3106.653507    0.064056    9.181078  \n",
      "1  2014-10-01      463.0  4252.799604    0.108869   75.864700  \n",
      "2  2014-10-01      219.0  2275.856965    0.096227   57.540692  \n"
     ]
    }
   ],
   "source": [
    "import_OP_data('measures.csv')"
   ]
  },
  {
   "cell_type": "code",
   "execution_count": 38,
   "metadata": {},
   "outputs": [],
   "source": [
    "def remove_OP_artifacts(dataframe):\n",
    "    dataframe_Sort = dataframe.sort_values(\"numerator\")#sort dataframe based on number of prescriptions\n",
    "    PCo = len(dataframe_Sort[dataframe_Sort['numerator'] == 0.0]) #count number of rows with 0 prescriptions\n",
    "    AntiP =  dataframe_Sort['numerator']>0.0 #Identify all rows with a prescription value greater than 0.0\n",
    "    df_SF = dataframe_Sort[AntiP] #Filter the dataset, keeping all rows with prescriptions >0 (i.e. = 'TRUE')\n",
    "    #First values of prescripitions in dataset = 1.0\n",
    "    #Rows with values of 0 have been filtered correctly\n",
    "    #Antibiotics per 1000. Values =0.0 = <1 prescription per 1000 people? Check openprescribing.net description?\n",
    "    #Check all rows with 0 prescriptions have been removed\n",
    "    df_SF_min = min(df_SF.numerator) # check minimum value is not 0.0\n",
    "    if PCo>0: #Create an if statement to interpret the presence of rows with 0 prescriptions\n",
    "        return print('This dataset contains', PCo, \n",
    "                  'entries with 0 prescriptions. These entries have been removed from the dataset.', \n",
    "                  'The smallest number of prescriptions is:', df_SF_min, 'per 1000 patients')\n",
    "                    #print warning meassage to user outlining the number of blank rows detected using an if statement \n",
    "    else:\n",
    "        return print('This dataset contains', PCo, \n",
    "          'entries with 0 prescriptions. No entries have been removed from the dataset. The smallest number of prescriptions is:',\n",
    "                 PCo) #Notify the user if no rows were found with zero prescriptions"
   ]
  },
  {
   "cell_type": "code",
   "execution_count": 39,
   "metadata": {},
   "outputs": [
    {
     "name": "stdout",
     "output_type": "stream",
     "text": [
      "This dataset contains 345 entries with 0 prescriptions. These entries have been removed from the dataset. The smallest number of prescriptions is: 1.0 per 1000 patients\n"
     ]
    }
   ],
   "source": [
    "remove_OP_artifacts(dataframe)\n"
   ]
  }
 ],
 "metadata": {
  "kernelspec": {
   "display_name": "Python 3",
   "language": "python",
   "name": "python3"
  },
  "language_info": {
   "codemirror_mode": {
    "name": "ipython",
    "version": 3
   },
   "file_extension": ".py",
   "mimetype": "text/x-python",
   "name": "python",
   "nbconvert_exporter": "python",
   "pygments_lexer": "ipython3",
   "version": "3.7.3"
  }
 },
 "nbformat": 4,
 "nbformat_minor": 2
}
