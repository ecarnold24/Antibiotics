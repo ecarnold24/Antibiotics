{
 "cells": [
  {
   "cell_type": "code",
   "execution_count": 11,
   "metadata": {},
   "outputs": [],
   "source": [
    "##Import matplotlib for making graphs,\n",
    "##import pandas for reading in dataframe\n",
    "import matplotlib\n",
    "import pandas"
   ]
  },
  {
   "cell_type": "code",
   "execution_count": 30,
   "metadata": {},
   "outputs": [
    {
     "name": "stdout",
     "output_type": "stream",
     "text": [
      "            measure  org_type  org_id                                org_name  \\\n",
      "0  ktt9_antibiotics  practice  P84650                  THE ALEXANDRA PRACTICE   \n",
      "1  ktt9_antibiotics  practice  P84673  ANCOATS URBAN VILLAGE MEDICAL PRACTICE   \n",
      "2  ktt9_antibiotics  practice  P84071                       WILBRAHAM SURGERY   \n",
      "3  ktt9_antibiotics  practice  P84049               THE AVENUE MEDICAL CENTRE   \n",
      "\n",
      "         date  numerator  denominator  calc_value  percentile  \n",
      "0  2014-10-01      199.0  3106.653507    0.064056    9.181078  \n",
      "1  2014-10-01      463.0  4252.799604    0.108869   75.864700  \n",
      "2  2014-10-01      219.0  2275.856965    0.096227   57.540692  \n",
      "3  2014-10-01      850.0  5602.462544    0.151719   96.731943  \n"
     ]
    }
   ],
   "source": [
    "##Read in our data and assign it to variable \"data\".\n",
    "data = pandas.read_csv(\"measures.csv\", sep =',')\n",
    "\n",
    "##To test we have imported data correctly,\n",
    "##import first four rows, which includes column headers\n",
    "print(data.loc[0:3,:])"
   ]
  },
  {
   "cell_type": "code",
   "execution_count": 37,
   "metadata": {},
   "outputs": [
    {
     "name": "stdout",
     "output_type": "stream",
     "text": [
      "P84650\n",
      "P84673\n",
      "P84071\n",
      "P84049\n",
      "P84024\n",
      "P84663\n",
      "Y02960\n",
      "P84064\n",
      "P84062\n",
      "Y01695\n",
      "P84623\n",
      "P84042\n",
      "P84005\n",
      "P84665\n",
      "P84645\n",
      "P84616\n",
      "P84072\n",
      "P84639\n",
      "P84054\n",
      "P84017\n",
      "P84009\n",
      "P84033\n",
      "P84028\n",
      "P84631\n",
      "P84635\n",
      "P84689\n",
      "P84048\n",
      "P84016\n",
      "P84690\n",
      "Y02849\n",
      "P84682\n",
      "P84659\n",
      "P84056\n",
      "P84046\n",
      "P84051\n",
      "P84018\n",
      "P84055\n",
      "P84676\n",
      "P84677\n",
      "P84057\n",
      "P84045\n",
      "P84611\n",
      "P84651\n",
      "P84034\n",
      "P84065\n",
      "P84012\n",
      "P84627\n",
      "Y02520\n",
      "P84043\n",
      "P84040\n",
      "P84023\n",
      "P84053\n",
      "P84030\n",
      "P84605\n",
      "P84038\n",
      "P84025\n",
      "P84019\n",
      "P84041\n",
      "P84059\n",
      "P84020\n",
      "Y02325\n",
      "P84039\n",
      "P84052\n",
      "P84683\n",
      "P84014\n",
      "P84630\n",
      "P84626\n",
      "P84026\n",
      "P84035\n",
      "P84063\n",
      "Y02890\n",
      "P84644\n",
      "P84684\n",
      "P84074\n",
      "P84652\n",
      "P84061\n",
      "P84047\n",
      "P84068\n",
      "P84672\n",
      "P84070\n",
      "P84029\n",
      "P84637\n",
      "P84067\n",
      "P84679\n",
      "P84066\n",
      "P84037\n",
      "P84010\n",
      "P84640\n",
      "P84032\n",
      "P84004\n",
      "P84050\n",
      "P84021\n",
      "P84022\n",
      "P84669\n",
      "P84678\n",
      "P84027\n"
     ]
    }
   ],
   "source": [
    "##Get a list of unique org_id\n",
    "unique_org_ids = data['org_id'].unique()\n",
    "print(unique_org_ids)"
   ]
  },
  {
   "cell_type": "code",
   "execution_count": null,
   "metadata": {},
   "outputs": [],
   "source": []
  }
 ],
 "metadata": {
  "kernelspec": {
   "display_name": "Python 3",
   "language": "python",
   "name": "python3"
  },
  "language_info": {
   "codemirror_mode": {
    "name": "ipython",
    "version": 3
   },
   "file_extension": ".py",
   "mimetype": "text/x-python",
   "name": "python",
   "nbconvert_exporter": "python",
   "pygments_lexer": "ipython3",
   "version": "3.7.3"
  }
 },
 "nbformat": 4,
 "nbformat_minor": 2
}
