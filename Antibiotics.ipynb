{
 "cells": [
  {
   "cell_type": "code",
   "execution_count": 31,
   "metadata": {},
   "outputs": [],
   "source": [
    "#step 1 import pandas\n",
    "import pandas as pd\n",
    "import matplotlib\n",
    "import os"
   ]
  },
  {
   "cell_type": "code",
   "execution_count": 32,
   "metadata": {},
   "outputs": [],
   "source": [
    "#step 2 load open prescribing measures data to filter out a subset for testing all scripts\n",
    "data = pd.read_csv('measures.csv', sep=',') #data is sepperated by , (commas)"
   ]
  },
  {
   "cell_type": "code",
   "execution_count": 33,
   "metadata": {},
   "outputs": [
    {
     "data": {
      "text/html": [
       "<div>\n",
       "<style scoped>\n",
       "    .dataframe tbody tr th:only-of-type {\n",
       "        vertical-align: middle;\n",
       "    }\n",
       "\n",
       "    .dataframe tbody tr th {\n",
       "        vertical-align: top;\n",
       "    }\n",
       "\n",
       "    .dataframe thead th {\n",
       "        text-align: right;\n",
       "    }\n",
       "</style>\n",
       "<table border=\"1\" class=\"dataframe\">\n",
       "  <thead>\n",
       "    <tr style=\"text-align: right;\">\n",
       "      <th></th>\n",
       "      <th>measure</th>\n",
       "      <th>org_type</th>\n",
       "      <th>org_id</th>\n",
       "      <th>org_name</th>\n",
       "      <th>date</th>\n",
       "      <th>numerator</th>\n",
       "      <th>denominator</th>\n",
       "      <th>calc_value</th>\n",
       "      <th>percentile</th>\n",
       "    </tr>\n",
       "  </thead>\n",
       "  <tbody>\n",
       "    <tr>\n",
       "      <th>0</th>\n",
       "      <td>ktt9_antibiotics</td>\n",
       "      <td>practice</td>\n",
       "      <td>P84650</td>\n",
       "      <td>THE ALEXANDRA PRACTICE</td>\n",
       "      <td>2014-10-01</td>\n",
       "      <td>199.0</td>\n",
       "      <td>3106.653507</td>\n",
       "      <td>0.064056</td>\n",
       "      <td>9.181078</td>\n",
       "    </tr>\n",
       "    <tr>\n",
       "      <th>1</th>\n",
       "      <td>ktt9_antibiotics</td>\n",
       "      <td>practice</td>\n",
       "      <td>P84673</td>\n",
       "      <td>ANCOATS URBAN VILLAGE MEDICAL PRACTICE</td>\n",
       "      <td>2014-10-01</td>\n",
       "      <td>463.0</td>\n",
       "      <td>4252.799604</td>\n",
       "      <td>0.108869</td>\n",
       "      <td>75.864700</td>\n",
       "    </tr>\n",
       "    <tr>\n",
       "      <th>2</th>\n",
       "      <td>ktt9_antibiotics</td>\n",
       "      <td>practice</td>\n",
       "      <td>P84071</td>\n",
       "      <td>WILBRAHAM SURGERY</td>\n",
       "      <td>2014-10-01</td>\n",
       "      <td>219.0</td>\n",
       "      <td>2275.856965</td>\n",
       "      <td>0.096227</td>\n",
       "      <td>57.540692</td>\n",
       "    </tr>\n",
       "  </tbody>\n",
       "</table>\n",
       "</div>"
      ],
      "text/plain": [
       "            measure  org_type  org_id                                org_name  \\\n",
       "0  ktt9_antibiotics  practice  P84650                  THE ALEXANDRA PRACTICE   \n",
       "1  ktt9_antibiotics  practice  P84673  ANCOATS URBAN VILLAGE MEDICAL PRACTICE   \n",
       "2  ktt9_antibiotics  practice  P84071                       WILBRAHAM SURGERY   \n",
       "\n",
       "         date  numerator  denominator  calc_value  percentile  \n",
       "0  2014-10-01      199.0  3106.653507    0.064056    9.181078  \n",
       "1  2014-10-01      463.0  4252.799604    0.108869   75.864700  \n",
       "2  2014-10-01      219.0  2275.856965    0.096227   57.540692  "
      ]
     },
     "execution_count": 33,
     "metadata": {},
     "output_type": "execute_result"
    }
   ],
   "source": [
    "#step 3 check data has imported correctly \n",
    "data.head(3) # Show top 3 entries"
   ]
  },
  {
   "cell_type": "code",
   "execution_count": 34,
   "metadata": {},
   "outputs": [
    {
     "data": {
      "text/html": [
       "<div>\n",
       "<style scoped>\n",
       "    .dataframe tbody tr th:only-of-type {\n",
       "        vertical-align: middle;\n",
       "    }\n",
       "\n",
       "    .dataframe tbody tr th {\n",
       "        vertical-align: top;\n",
       "    }\n",
       "\n",
       "    .dataframe thead th {\n",
       "        text-align: right;\n",
       "    }\n",
       "</style>\n",
       "<table border=\"1\" class=\"dataframe\">\n",
       "  <thead>\n",
       "    <tr style=\"text-align: right;\">\n",
       "      <th></th>\n",
       "      <th>measure</th>\n",
       "      <th>org_type</th>\n",
       "      <th>org_id</th>\n",
       "      <th>org_name</th>\n",
       "      <th>date</th>\n",
       "      <th>numerator</th>\n",
       "      <th>denominator</th>\n",
       "      <th>calc_value</th>\n",
       "      <th>percentile</th>\n",
       "    </tr>\n",
       "  </thead>\n",
       "  <tbody>\n",
       "    <tr>\n",
       "      <th>0</th>\n",
       "      <td>ktt9_antibiotics</td>\n",
       "      <td>practice</td>\n",
       "      <td>P84650</td>\n",
       "      <td>THE ALEXANDRA PRACTICE</td>\n",
       "      <td>2014-10-01</td>\n",
       "      <td>199.0</td>\n",
       "      <td>3106.653507</td>\n",
       "      <td>0.064056</td>\n",
       "      <td>9.181078</td>\n",
       "    </tr>\n",
       "    <tr>\n",
       "      <th>1</th>\n",
       "      <td>ktt9_antibiotics</td>\n",
       "      <td>practice</td>\n",
       "      <td>P84673</td>\n",
       "      <td>ANCOATS URBAN VILLAGE MEDICAL PRACTICE</td>\n",
       "      <td>2014-10-01</td>\n",
       "      <td>463.0</td>\n",
       "      <td>4252.799604</td>\n",
       "      <td>0.108869</td>\n",
       "      <td>75.864700</td>\n",
       "    </tr>\n",
       "    <tr>\n",
       "      <th>2</th>\n",
       "      <td>ktt9_antibiotics</td>\n",
       "      <td>practice</td>\n",
       "      <td>P84071</td>\n",
       "      <td>WILBRAHAM SURGERY</td>\n",
       "      <td>2014-10-01</td>\n",
       "      <td>219.0</td>\n",
       "      <td>2275.856965</td>\n",
       "      <td>0.096227</td>\n",
       "      <td>57.540692</td>\n",
       "    </tr>\n",
       "  </tbody>\n",
       "</table>\n",
       "</div>"
      ],
      "text/plain": [
       "            measure  org_type  org_id                                org_name  \\\n",
       "0  ktt9_antibiotics  practice  P84650                  THE ALEXANDRA PRACTICE   \n",
       "1  ktt9_antibiotics  practice  P84673  ANCOATS URBAN VILLAGE MEDICAL PRACTICE   \n",
       "2  ktt9_antibiotics  practice  P84071                       WILBRAHAM SURGERY   \n",
       "\n",
       "         date  numerator  denominator  calc_value  percentile  \n",
       "0  2014-10-01      199.0  3106.653507    0.064056    9.181078  \n",
       "1  2014-10-01      463.0  4252.799604    0.108869   75.864700  \n",
       "2  2014-10-01      219.0  2275.856965    0.096227   57.540692  "
      ]
     },
     "execution_count": 34,
     "metadata": {},
     "output_type": "execute_result"
    }
   ],
   "source": [
    "#step 4 Convert to a dataframe\n",
    "dataframe = pd.DataFrame(data)\n",
    "#view data frame\n",
    "dataframe.head(3)"
   ]
  },
  {
   "cell_type": "code",
   "execution_count": 94,
   "metadata": {},
   "outputs": [
    {
     "data": {
      "text/html": [
       "<div>\n",
       "<style scoped>\n",
       "    .dataframe tbody tr th:only-of-type {\n",
       "        vertical-align: middle;\n",
       "    }\n",
       "\n",
       "    .dataframe tbody tr th {\n",
       "        vertical-align: top;\n",
       "    }\n",
       "\n",
       "    .dataframe thead th {\n",
       "        text-align: right;\n",
       "    }\n",
       "</style>\n",
       "<table border=\"1\" class=\"dataframe\">\n",
       "  <thead>\n",
       "    <tr style=\"text-align: right;\">\n",
       "      <th></th>\n",
       "      <th>measure</th>\n",
       "      <th>org_type</th>\n",
       "      <th>org_id</th>\n",
       "      <th>org_name</th>\n",
       "      <th>date</th>\n",
       "      <th>numerator</th>\n",
       "      <th>denominator</th>\n",
       "      <th>calc_value</th>\n",
       "      <th>percentile</th>\n",
       "    </tr>\n",
       "  </thead>\n",
       "  <tbody>\n",
       "    <tr>\n",
       "      <th>2050</th>\n",
       "      <td>ktt9_antibiotics</td>\n",
       "      <td>practice</td>\n",
       "      <td>P84659</td>\n",
       "      <td>DR HUSSAIN'S PRACTICE</td>\n",
       "      <td>2016-07-01</td>\n",
       "      <td>0.0</td>\n",
       "      <td>0.0</td>\n",
       "      <td>NaN</td>\n",
       "      <td>NaN</td>\n",
       "    </tr>\n",
       "    <tr>\n",
       "      <th>1003</th>\n",
       "      <td>ktt9_antibiotics</td>\n",
       "      <td>practice</td>\n",
       "      <td>P84063</td>\n",
       "      <td>DR CHEN &amp; DAVIS</td>\n",
       "      <td>2015-08-01</td>\n",
       "      <td>0.0</td>\n",
       "      <td>0.0</td>\n",
       "      <td>NaN</td>\n",
       "      <td>NaN</td>\n",
       "    </tr>\n",
       "    <tr>\n",
       "      <th>1011</th>\n",
       "      <td>ktt9_antibiotics</td>\n",
       "      <td>practice</td>\n",
       "      <td>P84057</td>\n",
       "      <td>KAYA PRACTICE</td>\n",
       "      <td>2015-08-01</td>\n",
       "      <td>0.0</td>\n",
       "      <td>0.0</td>\n",
       "      <td>NaN</td>\n",
       "      <td>NaN</td>\n",
       "    </tr>\n",
       "    <tr>\n",
       "      <th>3978</th>\n",
       "      <td>ktt9_antibiotics</td>\n",
       "      <td>practice</td>\n",
       "      <td>P84623</td>\n",
       "      <td>ALEESHAN MEDICAL CENTRE</td>\n",
       "      <td>2018-03-01</td>\n",
       "      <td>0.0</td>\n",
       "      <td>0.0</td>\n",
       "      <td>NaN</td>\n",
       "      <td>NaN</td>\n",
       "    </tr>\n",
       "    <tr>\n",
       "      <th>1014</th>\n",
       "      <td>ktt9_antibiotics</td>\n",
       "      <td>practice</td>\n",
       "      <td>P84677</td>\n",
       "      <td>DIDSBURY MEDICAL CENTRE- DR ASHWORTH</td>\n",
       "      <td>2015-08-01</td>\n",
       "      <td>0.0</td>\n",
       "      <td>0.0</td>\n",
       "      <td>NaN</td>\n",
       "      <td>NaN</td>\n",
       "    </tr>\n",
       "    <tr>\n",
       "      <th>3974</th>\n",
       "      <td>ktt9_antibiotics</td>\n",
       "      <td>practice</td>\n",
       "      <td>P84063</td>\n",
       "      <td>DR CHEN &amp; DAVIS</td>\n",
       "      <td>2018-03-01</td>\n",
       "      <td>0.0</td>\n",
       "      <td>0.0</td>\n",
       "      <td>NaN</td>\n",
       "      <td>NaN</td>\n",
       "    </tr>\n",
       "  </tbody>\n",
       "</table>\n",
       "</div>"
      ],
      "text/plain": [
       "               measure  org_type  org_id  \\\n",
       "2050  ktt9_antibiotics  practice  P84659   \n",
       "1003  ktt9_antibiotics  practice  P84063   \n",
       "1011  ktt9_antibiotics  practice  P84057   \n",
       "3978  ktt9_antibiotics  practice  P84623   \n",
       "1014  ktt9_antibiotics  practice  P84677   \n",
       "3974  ktt9_antibiotics  practice  P84063   \n",
       "\n",
       "                                  org_name        date  numerator  \\\n",
       "2050                 DR HUSSAIN'S PRACTICE  2016-07-01        0.0   \n",
       "1003                       DR CHEN & DAVIS  2015-08-01        0.0   \n",
       "1011                         KAYA PRACTICE  2015-08-01        0.0   \n",
       "3978               ALEESHAN MEDICAL CENTRE  2018-03-01        0.0   \n",
       "1014  DIDSBURY MEDICAL CENTRE- DR ASHWORTH  2015-08-01        0.0   \n",
       "3974                       DR CHEN & DAVIS  2018-03-01        0.0   \n",
       "\n",
       "      denominator  calc_value  percentile  \n",
       "2050          0.0         NaN         NaN  \n",
       "1003          0.0         NaN         NaN  \n",
       "1011          0.0         NaN         NaN  \n",
       "3978          0.0         NaN         NaN  \n",
       "1014          0.0         NaN         NaN  \n",
       "3974          0.0         NaN         NaN  "
      ]
     },
     "execution_count": 94,
     "metadata": {},
     "output_type": "execute_result"
    }
   ],
   "source": [
    "#step 5 sort dataframe first by number of prescriptions\n",
    "dataframe_Sort = dataframe.sort_values(\"numerator\")\n",
    "#See the following URL to sort by more than one column: \n",
    "#https://www.geeksforgeeks.org/python-pandas-dataframe-sort_values-set-2/\n",
    "dataframe_Sort.head(6)"
   ]
  },
  {
   "cell_type": "code",
   "execution_count": 179,
   "metadata": {},
   "outputs": [
    {
     "data": {
      "text/plain": [
       "345"
      ]
     },
     "execution_count": 179,
     "metadata": {},
     "output_type": "execute_result"
    }
   ],
   "source": [
    "# step 6 Check if any database entries (rows) have 0.0 prescriptions as these will need to be removed\n",
    "NoAnti =  dataframe_Sort['numerator']==0.0\n",
    "NoAnti.head(3)\n",
    "#count number of rows with 0 prescriptions\n",
    "PCo = len(dataframe_Sort[dataframe_Sort['numerator'] == 0.0]) \n",
    "PCo\n"
   ]
  },
  {
   "cell_type": "code",
   "execution_count": 183,
   "metadata": {},
   "outputs": [
    {
     "name": "stdout",
     "output_type": "stream",
     "text": [
      "This dataset contains 345 entries with 0 prescriptions. These entries will be removed from the dataset.\n"
     ]
    }
   ],
   "source": [
    "#step 7 print warning meassage to user... using if statement e.g. \n",
    "if PCo>0:\n",
    "    print('This dataset contains', PCo, 'entries with 0 prescriptions. These entries will be removed from the dataset.')\n",
    "else:\n",
    "    print('no errors were detected')"
   ]
  },
  {
   "cell_type": "code",
   "execution_count": 160,
   "metadata": {},
   "outputs": [
    {
     "data": {
      "text/plain": [
       "345"
      ]
     },
     "execution_count": 160,
     "metadata": {},
     "output_type": "execute_result"
    }
   ],
   "source": [
    "# step 8 Identify all database entries with >0.0 prescriptions and remove\n",
    "AntiP =  dataframe_Sort['numerator']>0.0\n",
    "AntiP.head(3)\n",
    "AntiP.tail(3)"
   ]
  },
  {
   "cell_type": "code",
   "execution_count": 97,
   "metadata": {},
   "outputs": [
    {
     "data": {
      "text/html": [
       "<div>\n",
       "<style scoped>\n",
       "    .dataframe tbody tr th:only-of-type {\n",
       "        vertical-align: middle;\n",
       "    }\n",
       "\n",
       "    .dataframe tbody tr th {\n",
       "        vertical-align: top;\n",
       "    }\n",
       "\n",
       "    .dataframe thead th {\n",
       "        text-align: right;\n",
       "    }\n",
       "</style>\n",
       "<table border=\"1\" class=\"dataframe\">\n",
       "  <thead>\n",
       "    <tr style=\"text-align: right;\">\n",
       "      <th></th>\n",
       "      <th>measure</th>\n",
       "      <th>org_type</th>\n",
       "      <th>org_id</th>\n",
       "      <th>org_name</th>\n",
       "      <th>date</th>\n",
       "      <th>numerator</th>\n",
       "      <th>denominator</th>\n",
       "      <th>calc_value</th>\n",
       "      <th>percentile</th>\n",
       "    </tr>\n",
       "  </thead>\n",
       "  <tbody>\n",
       "    <tr>\n",
       "      <th>2770</th>\n",
       "      <td>ktt9_antibiotics</td>\n",
       "      <td>practice</td>\n",
       "      <td>P84676</td>\n",
       "      <td>OSWALD ROAD MEDICAL PRACTICE</td>\n",
       "      <td>2017-02-01</td>\n",
       "      <td>1.0</td>\n",
       "      <td>0.00000</td>\n",
       "      <td>NaN</td>\n",
       "      <td>NaN</td>\n",
       "    </tr>\n",
       "    <tr>\n",
       "      <th>415</th>\n",
       "      <td>ktt9_antibiotics</td>\n",
       "      <td>practice</td>\n",
       "      <td>P84605</td>\n",
       "      <td>FERNCLOUGH SURGERY</td>\n",
       "      <td>2015-02-01</td>\n",
       "      <td>1.0</td>\n",
       "      <td>1089.97012</td>\n",
       "      <td>0.000917</td>\n",
       "      <td>0.242378</td>\n",
       "    </tr>\n",
       "    <tr>\n",
       "      <th>2633</th>\n",
       "      <td>ktt9_antibiotics</td>\n",
       "      <td>practice</td>\n",
       "      <td>P84676</td>\n",
       "      <td>OSWALD ROAD MEDICAL PRACTICE</td>\n",
       "      <td>2017-01-01</td>\n",
       "      <td>1.0</td>\n",
       "      <td>0.00000</td>\n",
       "      <td>NaN</td>\n",
       "      <td>NaN</td>\n",
       "    </tr>\n",
       "  </tbody>\n",
       "</table>\n",
       "</div>"
      ],
      "text/plain": [
       "               measure  org_type  org_id                      org_name  \\\n",
       "2770  ktt9_antibiotics  practice  P84676  OSWALD ROAD MEDICAL PRACTICE   \n",
       "415   ktt9_antibiotics  practice  P84605            FERNCLOUGH SURGERY   \n",
       "2633  ktt9_antibiotics  practice  P84676  OSWALD ROAD MEDICAL PRACTICE   \n",
       "\n",
       "            date  numerator  denominator  calc_value  percentile  \n",
       "2770  2017-02-01        1.0      0.00000         NaN         NaN  \n",
       "415   2015-02-01        1.0   1089.97012    0.000917    0.242378  \n",
       "2633  2017-01-01        1.0      0.00000         NaN         NaN  "
      ]
     },
     "execution_count": 97,
     "metadata": {},
     "output_type": "execute_result"
    }
   ],
   "source": [
    "# Filter out all rows with 0 prescriptions\n",
    "df_SF = dataframe_Sort[AntiP]\n",
    "df_SF.head(3)"
   ]
  },
  {
   "cell_type": "code",
   "execution_count": 102,
   "metadata": {},
   "outputs": [
    {
     "data": {
      "text/plain": [
       "1.0"
      ]
     },
     "execution_count": 102,
     "metadata": {},
     "output_type": "execute_result"
    }
   ],
   "source": [
    "#Check all rows with 0 prescriptions have been removed\n",
    "min(df_SF.numerator) # check minimum value is not 0.0"
   ]
  },
  {
   "cell_type": "code",
   "execution_count": 116,
   "metadata": {},
   "outputs": [
    {
     "name": "stdout",
     "output_type": "stream",
     "text": [
      "219.0\n"
     ]
    }
   ],
   "source": [
    "#Calculate IQR\n",
    "#Q1\n",
    "q1 = df_SF['numerator'].quantile(0.25)\n",
    "#Q3\n",
    "q3 = df_SF['numerator'].quantile(0.75) \n",
    "#IQR\n",
    "iqr=q3-q1\n",
    "print(iqr)"
   ]
  },
  {
   "cell_type": "code",
   "execution_count": 117,
   "metadata": {},
   "outputs": [],
   "source": [
    "#Calclate lower limit for outliers\n",
    "LowOut = q1 - 1.5 * iqr"
   ]
  },
  {
   "cell_type": "code",
   "execution_count": 128,
   "metadata": {},
   "outputs": [
    {
     "data": {
      "text/plain": [
       "724.5"
      ]
     },
     "execution_count": 128,
     "metadata": {},
     "output_type": "execute_result"
    }
   ],
   "source": [
    "#Calculate upper limit for outliers\n",
    "HighOut = q3 + 1.5 * iqr\n",
    "HighOut"
   ]
  },
  {
   "cell_type": "code",
   "execution_count": 140,
   "metadata": {},
   "outputs": [
    {
     "data": {
      "text/plain": [
       "2770    False\n",
       "415     False\n",
       "2633    False\n",
       "3300    False\n",
       "651     False\n",
       "2840    False\n",
       "Name: numerator, dtype: bool"
      ]
     },
     "execution_count": 140,
     "metadata": {},
     "output_type": "execute_result"
    }
   ],
   "source": [
    "# Filtering Values between Q1-1.5IQR and Q3+1.5IQR\n",
    "# See https://stackoverflow.com/questions/34782063/how-to-use-pandas-filter-with-iqr\n",
    "#Are Outliers present?\n",
    "LowOutliers = df_SF['numerator']<=LowOut\n",
    "HighOutliers = df_SF['numerator']>=HighOut\n",
    "HighOutliers.tail(6)\n",
    "HighOutliers.head(6)"
   ]
  },
  {
   "cell_type": "code",
   "execution_count": 142,
   "metadata": {},
   "outputs": [
    {
     "data": {
      "text/html": [
       "<div>\n",
       "<style scoped>\n",
       "    .dataframe tbody tr th:only-of-type {\n",
       "        vertical-align: middle;\n",
       "    }\n",
       "\n",
       "    .dataframe tbody tr th {\n",
       "        vertical-align: top;\n",
       "    }\n",
       "\n",
       "    .dataframe thead th {\n",
       "        text-align: right;\n",
       "    }\n",
       "</style>\n",
       "<table border=\"1\" class=\"dataframe\">\n",
       "  <thead>\n",
       "    <tr style=\"text-align: right;\">\n",
       "      <th></th>\n",
       "      <th>measure</th>\n",
       "      <th>org_type</th>\n",
       "      <th>org_id</th>\n",
       "      <th>org_name</th>\n",
       "      <th>date</th>\n",
       "      <th>numerator</th>\n",
       "      <th>denominator</th>\n",
       "      <th>calc_value</th>\n",
       "      <th>percentile</th>\n",
       "    </tr>\n",
       "  </thead>\n",
       "  <tbody>\n",
       "  </tbody>\n",
       "</table>\n",
       "</div>"
      ],
      "text/plain": [
       "Empty DataFrame\n",
       "Columns: [measure, org_type, org_id, org_name, date, numerator, denominator, calc_value, percentile]\n",
       "Index: []"
      ]
     },
     "execution_count": 142,
     "metadata": {},
     "output_type": "execute_result"
    }
   ],
   "source": [
    "# Filter out all rows with outliers\n",
    "df_SFout = df_SF[HighOutliers & LowOutliers] # At present only works with high outliers as lower limit is below 0\n",
    "df_SFout.head(3)"
   ]
  },
  {
   "cell_type": "code",
   "execution_count": 143,
   "metadata": {},
   "outputs": [
    {
     "data": {
      "text/plain": [
       "1.0"
      ]
     },
     "execution_count": 143,
     "metadata": {},
     "output_type": "execute_result"
    }
   ],
   "source": [
    "#check if there are any outliers - could use this as the basis for a warning message\n",
    "max(df_SF.numerator)\n",
    "#Outliers present at upper tail...\n",
    "#check if there are any outliers\n",
    "min(df_SF.numerator)\n",
    "# These values need to be filterred out at a later stage but will make this improvement after checking the IQR filters"
   ]
  },
  {
   "cell_type": "code",
   "execution_count": 148,
   "metadata": {},
   "outputs": [
    {
     "data": {
      "text/plain": [
       "<matplotlib.axes._subplots.AxesSubplot at 0x7f5f0144cfd0>"
      ]
     },
     "execution_count": 148,
     "metadata": {},
     "output_type": "execute_result"
    },
    {
     "data": {
      "image/png": "[encoded data removed]",
      "text/plain": [
       "<Figure size 432x288 with 1 Axes>"
      ]
     },
     "metadata": {
      "needs_background": "light"
     },
     "output_type": "display_data"
    }
   ],
   "source": [
    "\n",
    "df_SF.join(df_SFout.numerator, rsuffix='_filtered').boxplot()"
   ]
  },
  {
   "cell_type": "code",
   "execution_count": 134,
   "metadata": {},
   "outputs": [],
   "source": [
    "import matplotlib\n"
   ]
  },
  {
   "cell_type": "code",
   "execution_count": null,
   "metadata": {},
   "outputs": [],
   "source": []
  }
 ],
 "metadata": {
  "kernelspec": {
   "display_name": "Python 3",
   "language": "python",
   "name": "python3"
  },
  "language_info": {
   "codemirror_mode": {
    "name": "ipython",
    "version": 3
   },
   "file_extension": ".py",
   "mimetype": "text/x-python",
   "name": "python",
   "nbconvert_exporter": "python",
   "pygments_lexer": "ipython3",
   "version": "3.7.3"
  }
 },
 "nbformat": 4,
 "nbformat_minor": 2
}
