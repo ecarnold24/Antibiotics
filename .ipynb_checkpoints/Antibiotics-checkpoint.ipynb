{
 "cells": [
  {
   "cell_type": "code",
   "execution_count": 1,
   "metadata": {},
   "outputs": [],
   "source": [
    "#step 1 import pandas\n",
    "import pandas as pd\n",
    "import matplotlib\n",
    "import os"
   ]
  },
  {
   "cell_type": "code",
   "execution_count": 2,
   "metadata": {},
   "outputs": [],
   "source": [
    "#step 2 load open prescribing measures data to filter out a subset for testing all scripts\n",
    "data = pd.read_csv('measures.csv', sep=',') #data is sepperated by , (commas)"
   ]
  },
  {
   "cell_type": "code",
   "execution_count": 3,
   "metadata": {},
   "outputs": [
    {
     "data": {
      "text/html": [
       "<div>\n",
       "<style scoped>\n",
       "    .dataframe tbody tr th:only-of-type {\n",
       "        vertical-align: middle;\n",
       "    }\n",
       "\n",
       "    .dataframe tbody tr th {\n",
       "        vertical-align: top;\n",
       "    }\n",
       "\n",
       "    .dataframe thead th {\n",
       "        text-align: right;\n",
       "    }\n",
       "</style>\n",
       "<table border=\"1\" class=\"dataframe\">\n",
       "  <thead>\n",
       "    <tr style=\"text-align: right;\">\n",
       "      <th></th>\n",
       "      <th>measure</th>\n",
       "      <th>org_type</th>\n",
       "      <th>org_id</th>\n",
       "      <th>org_name</th>\n",
       "      <th>date</th>\n",
       "      <th>numerator</th>\n",
       "      <th>denominator</th>\n",
       "      <th>calc_value</th>\n",
       "      <th>percentile</th>\n",
       "    </tr>\n",
       "  </thead>\n",
       "  <tbody>\n",
       "    <tr>\n",
       "      <th>0</th>\n",
       "      <td>ktt9_antibiotics</td>\n",
       "      <td>practice</td>\n",
       "      <td>P84650</td>\n",
       "      <td>THE ALEXANDRA PRACTICE</td>\n",
       "      <td>2014-10-01</td>\n",
       "      <td>199.0</td>\n",
       "      <td>3106.653507</td>\n",
       "      <td>0.064056</td>\n",
       "      <td>9.181078</td>\n",
       "    </tr>\n",
       "    <tr>\n",
       "      <th>1</th>\n",
       "      <td>ktt9_antibiotics</td>\n",
       "      <td>practice</td>\n",
       "      <td>P84673</td>\n",
       "      <td>ANCOATS URBAN VILLAGE MEDICAL PRACTICE</td>\n",
       "      <td>2014-10-01</td>\n",
       "      <td>463.0</td>\n",
       "      <td>4252.799604</td>\n",
       "      <td>0.108869</td>\n",
       "      <td>75.864700</td>\n",
       "    </tr>\n",
       "    <tr>\n",
       "      <th>2</th>\n",
       "      <td>ktt9_antibiotics</td>\n",
       "      <td>practice</td>\n",
       "      <td>P84071</td>\n",
       "      <td>WILBRAHAM SURGERY</td>\n",
       "      <td>2014-10-01</td>\n",
       "      <td>219.0</td>\n",
       "      <td>2275.856965</td>\n",
       "      <td>0.096227</td>\n",
       "      <td>57.540692</td>\n",
       "    </tr>\n",
       "  </tbody>\n",
       "</table>\n",
       "</div>"
      ],
      "text/plain": [
       "            measure  org_type  org_id                                org_name  \\\n",
       "0  ktt9_antibiotics  practice  P84650                  THE ALEXANDRA PRACTICE   \n",
       "1  ktt9_antibiotics  practice  P84673  ANCOATS URBAN VILLAGE MEDICAL PRACTICE   \n",
       "2  ktt9_antibiotics  practice  P84071                       WILBRAHAM SURGERY   \n",
       "\n",
       "         date  numerator  denominator  calc_value  percentile  \n",
       "0  2014-10-01      199.0  3106.653507    0.064056    9.181078  \n",
       "1  2014-10-01      463.0  4252.799604    0.108869   75.864700  \n",
       "2  2014-10-01      219.0  2275.856965    0.096227   57.540692  "
      ]
     },
     "execution_count": 3,
     "metadata": {},
     "output_type": "execute_result"
    }
   ],
   "source": [
    "#step 3 check data has imported correctly \n",
    "data.head(3) # Show top 3 entries"
   ]
  },
  {
   "cell_type": "code",
   "execution_count": 4,
   "metadata": {},
   "outputs": [
    {
     "data": {
      "text/html": [
       "<div>\n",
       "<style scoped>\n",
       "    .dataframe tbody tr th:only-of-type {\n",
       "        vertical-align: middle;\n",
       "    }\n",
       "\n",
       "    .dataframe tbody tr th {\n",
       "        vertical-align: top;\n",
       "    }\n",
       "\n",
       "    .dataframe thead th {\n",
       "        text-align: right;\n",
       "    }\n",
       "</style>\n",
       "<table border=\"1\" class=\"dataframe\">\n",
       "  <thead>\n",
       "    <tr style=\"text-align: right;\">\n",
       "      <th></th>\n",
       "      <th>measure</th>\n",
       "      <th>org_type</th>\n",
       "      <th>org_id</th>\n",
       "      <th>org_name</th>\n",
       "      <th>date</th>\n",
       "      <th>numerator</th>\n",
       "      <th>denominator</th>\n",
       "      <th>calc_value</th>\n",
       "      <th>percentile</th>\n",
       "    </tr>\n",
       "  </thead>\n",
       "  <tbody>\n",
       "    <tr>\n",
       "      <th>0</th>\n",
       "      <td>ktt9_antibiotics</td>\n",
       "      <td>practice</td>\n",
       "      <td>P84650</td>\n",
       "      <td>THE ALEXANDRA PRACTICE</td>\n",
       "      <td>2014-10-01</td>\n",
       "      <td>199.0</td>\n",
       "      <td>3106.653507</td>\n",
       "      <td>0.064056</td>\n",
       "      <td>9.181078</td>\n",
       "    </tr>\n",
       "    <tr>\n",
       "      <th>1</th>\n",
       "      <td>ktt9_antibiotics</td>\n",
       "      <td>practice</td>\n",
       "      <td>P84673</td>\n",
       "      <td>ANCOATS URBAN VILLAGE MEDICAL PRACTICE</td>\n",
       "      <td>2014-10-01</td>\n",
       "      <td>463.0</td>\n",
       "      <td>4252.799604</td>\n",
       "      <td>0.108869</td>\n",
       "      <td>75.864700</td>\n",
       "    </tr>\n",
       "    <tr>\n",
       "      <th>2</th>\n",
       "      <td>ktt9_antibiotics</td>\n",
       "      <td>practice</td>\n",
       "      <td>P84071</td>\n",
       "      <td>WILBRAHAM SURGERY</td>\n",
       "      <td>2014-10-01</td>\n",
       "      <td>219.0</td>\n",
       "      <td>2275.856965</td>\n",
       "      <td>0.096227</td>\n",
       "      <td>57.540692</td>\n",
       "    </tr>\n",
       "  </tbody>\n",
       "</table>\n",
       "</div>"
      ],
      "text/plain": [
       "            measure  org_type  org_id                                org_name  \\\n",
       "0  ktt9_antibiotics  practice  P84650                  THE ALEXANDRA PRACTICE   \n",
       "1  ktt9_antibiotics  practice  P84673  ANCOATS URBAN VILLAGE MEDICAL PRACTICE   \n",
       "2  ktt9_antibiotics  practice  P84071                       WILBRAHAM SURGERY   \n",
       "\n",
       "         date  numerator  denominator  calc_value  percentile  \n",
       "0  2014-10-01      199.0  3106.653507    0.064056    9.181078  \n",
       "1  2014-10-01      463.0  4252.799604    0.108869   75.864700  \n",
       "2  2014-10-01      219.0  2275.856965    0.096227   57.540692  "
      ]
     },
     "execution_count": 4,
     "metadata": {},
     "output_type": "execute_result"
    }
   ],
   "source": [
    "#step 4 Convert to a dataframe\n",
    "dataframe = pd.DataFrame(data)\n",
    "#view data frame\n",
    "dataframe.head(3)"
   ]
  },
  {
   "cell_type": "code",
   "execution_count": 5,
   "metadata": {},
   "outputs": [
    {
     "data": {
      "text/html": [
       "<div>\n",
       "<style scoped>\n",
       "    .dataframe tbody tr th:only-of-type {\n",
       "        vertical-align: middle;\n",
       "    }\n",
       "\n",
       "    .dataframe tbody tr th {\n",
       "        vertical-align: top;\n",
       "    }\n",
       "\n",
       "    .dataframe thead th {\n",
       "        text-align: right;\n",
       "    }\n",
       "</style>\n",
       "<table border=\"1\" class=\"dataframe\">\n",
       "  <thead>\n",
       "    <tr style=\"text-align: right;\">\n",
       "      <th></th>\n",
       "      <th>measure</th>\n",
       "      <th>org_type</th>\n",
       "      <th>org_id</th>\n",
       "      <th>org_name</th>\n",
       "      <th>date</th>\n",
       "      <th>numerator</th>\n",
       "      <th>denominator</th>\n",
       "      <th>calc_value</th>\n",
       "      <th>percentile</th>\n",
       "    </tr>\n",
       "  </thead>\n",
       "  <tbody>\n",
       "    <tr>\n",
       "      <th>2050</th>\n",
       "      <td>ktt9_antibiotics</td>\n",
       "      <td>practice</td>\n",
       "      <td>P84659</td>\n",
       "      <td>DR HUSSAIN'S PRACTICE</td>\n",
       "      <td>2016-07-01</td>\n",
       "      <td>0.0</td>\n",
       "      <td>0.0</td>\n",
       "      <td>NaN</td>\n",
       "      <td>NaN</td>\n",
       "    </tr>\n",
       "    <tr>\n",
       "      <th>1003</th>\n",
       "      <td>ktt9_antibiotics</td>\n",
       "      <td>practice</td>\n",
       "      <td>P84063</td>\n",
       "      <td>DR CHEN &amp; DAVIS</td>\n",
       "      <td>2015-08-01</td>\n",
       "      <td>0.0</td>\n",
       "      <td>0.0</td>\n",
       "      <td>NaN</td>\n",
       "      <td>NaN</td>\n",
       "    </tr>\n",
       "    <tr>\n",
       "      <th>1011</th>\n",
       "      <td>ktt9_antibiotics</td>\n",
       "      <td>practice</td>\n",
       "      <td>P84057</td>\n",
       "      <td>KAYA PRACTICE</td>\n",
       "      <td>2015-08-01</td>\n",
       "      <td>0.0</td>\n",
       "      <td>0.0</td>\n",
       "      <td>NaN</td>\n",
       "      <td>NaN</td>\n",
       "    </tr>\n",
       "    <tr>\n",
       "      <th>3978</th>\n",
       "      <td>ktt9_antibiotics</td>\n",
       "      <td>practice</td>\n",
       "      <td>P84623</td>\n",
       "      <td>ALEESHAN MEDICAL CENTRE</td>\n",
       "      <td>2018-03-01</td>\n",
       "      <td>0.0</td>\n",
       "      <td>0.0</td>\n",
       "      <td>NaN</td>\n",
       "      <td>NaN</td>\n",
       "    </tr>\n",
       "    <tr>\n",
       "      <th>1014</th>\n",
       "      <td>ktt9_antibiotics</td>\n",
       "      <td>practice</td>\n",
       "      <td>P84677</td>\n",
       "      <td>DIDSBURY MEDICAL CENTRE- DR ASHWORTH</td>\n",
       "      <td>2015-08-01</td>\n",
       "      <td>0.0</td>\n",
       "      <td>0.0</td>\n",
       "      <td>NaN</td>\n",
       "      <td>NaN</td>\n",
       "    </tr>\n",
       "    <tr>\n",
       "      <th>3974</th>\n",
       "      <td>ktt9_antibiotics</td>\n",
       "      <td>practice</td>\n",
       "      <td>P84063</td>\n",
       "      <td>DR CHEN &amp; DAVIS</td>\n",
       "      <td>2018-03-01</td>\n",
       "      <td>0.0</td>\n",
       "      <td>0.0</td>\n",
       "      <td>NaN</td>\n",
       "      <td>NaN</td>\n",
       "    </tr>\n",
       "  </tbody>\n",
       "</table>\n",
       "</div>"
      ],
      "text/plain": [
       "               measure  org_type  org_id  \\\n",
       "2050  ktt9_antibiotics  practice  P84659   \n",
       "1003  ktt9_antibiotics  practice  P84063   \n",
       "1011  ktt9_antibiotics  practice  P84057   \n",
       "3978  ktt9_antibiotics  practice  P84623   \n",
       "1014  ktt9_antibiotics  practice  P84677   \n",
       "3974  ktt9_antibiotics  practice  P84063   \n",
       "\n",
       "                                  org_name        date  numerator  \\\n",
       "2050                 DR HUSSAIN'S PRACTICE  2016-07-01        0.0   \n",
       "1003                       DR CHEN & DAVIS  2015-08-01        0.0   \n",
       "1011                         KAYA PRACTICE  2015-08-01        0.0   \n",
       "3978               ALEESHAN MEDICAL CENTRE  2018-03-01        0.0   \n",
       "1014  DIDSBURY MEDICAL CENTRE- DR ASHWORTH  2015-08-01        0.0   \n",
       "3974                       DR CHEN & DAVIS  2018-03-01        0.0   \n",
       "\n",
       "      denominator  calc_value  percentile  \n",
       "2050          0.0         NaN         NaN  \n",
       "1003          0.0         NaN         NaN  \n",
       "1011          0.0         NaN         NaN  \n",
       "3978          0.0         NaN         NaN  \n",
       "1014          0.0         NaN         NaN  \n",
       "3974          0.0         NaN         NaN  "
      ]
     },
     "execution_count": 5,
     "metadata": {},
     "output_type": "execute_result"
    }
   ],
   "source": [
    "#step 5 sort dataframe first by number of prescriptions\n",
    "dataframe_Sort = dataframe.sort_values(\"numerator\")\n",
    "#See the following URL to sort by more than one column: \n",
    "#https://www.geeksforgeeks.org/python-pandas-dataframe-sort_values-set-2/\n",
    "dataframe_Sort.head(6)"
   ]
  },
  {
   "cell_type": "code",
   "execution_count": 6,
   "metadata": {},
   "outputs": [
    {
     "data": {
      "text/plain": [
       "345"
      ]
     },
     "execution_count": 6,
     "metadata": {},
     "output_type": "execute_result"
    }
   ],
   "source": [
    "# step 6 Check if any database entries (rows) have 0.0 prescriptions as these will need to be removed\n",
    "NoAnti =  dataframe_Sort['numerator']==0.0\n",
    "NoAnti.head(3)\n",
    "#count number of rows with 0 prescriptions\n",
    "PCo = len(dataframe_Sort[dataframe_Sort['numerator'] == 0.0]) \n",
    "PCo\n"
   ]
  },
  {
   "cell_type": "code",
   "execution_count": 7,
   "metadata": {},
   "outputs": [
    {
     "name": "stdout",
     "output_type": "stream",
     "text": [
      "This dataset contains 345 entries with 0 prescriptions. These entries will be removed from the dataset.\n"
     ]
    }
   ],
   "source": [
    "#step 7 print warning meassage to user... using if statement e.g. \n",
    "if PCo>0:\n",
    "    print('This dataset contains', PCo, 'entries with 0 prescriptions. These entries will be removed from the dataset.')\n",
    "else:\n",
    "    print('no errors were detected')"
   ]
  },
  {
   "cell_type": "code",
   "execution_count": null,
   "metadata": {},
   "outputs": [],
   "source": [
    "def find_zeros(data)\n",
    "    "
   ]
  },
  {
   "cell_type": "code",
   "execution_count": 8,
   "metadata": {},
   "outputs": [
    {
     "data": {
      "text/plain": [
       "4438    True\n",
       "4346    True\n",
       "4608    True\n",
       "Name: numerator, dtype: bool"
      ]
     },
     "execution_count": 8,
     "metadata": {},
     "output_type": "execute_result"
    }
   ],
   "source": [
    "# step 8 Identify all database entries with >0.0 prescriptions and remove\n",
    "AntiP =  dataframe_Sort['numerator']>0.0\n",
    "AntiP.head(3)\n",
    "AntiP.tail(3)"
   ]
  },
  {
   "cell_type": "code",
   "execution_count": 9,
   "metadata": {},
   "outputs": [
    {
     "data": {
      "text/html": [
       "<div>\n",
       "<style scoped>\n",
       "    .dataframe tbody tr th:only-of-type {\n",
       "        vertical-align: middle;\n",
       "    }\n",
       "\n",
       "    .dataframe tbody tr th {\n",
       "        vertical-align: top;\n",
       "    }\n",
       "\n",
       "    .dataframe thead th {\n",
       "        text-align: right;\n",
       "    }\n",
       "</style>\n",
       "<table border=\"1\" class=\"dataframe\">\n",
       "  <thead>\n",
       "    <tr style=\"text-align: right;\">\n",
       "      <th></th>\n",
       "      <th>measure</th>\n",
       "      <th>org_type</th>\n",
       "      <th>org_id</th>\n",
       "      <th>org_name</th>\n",
       "      <th>date</th>\n",
       "      <th>numerator</th>\n",
       "      <th>denominator</th>\n",
       "      <th>calc_value</th>\n",
       "      <th>percentile</th>\n",
       "    </tr>\n",
       "  </thead>\n",
       "  <tbody>\n",
       "    <tr>\n",
       "      <th>2770</th>\n",
       "      <td>ktt9_antibiotics</td>\n",
       "      <td>practice</td>\n",
       "      <td>P84676</td>\n",
       "      <td>OSWALD ROAD MEDICAL PRACTICE</td>\n",
       "      <td>2017-02-01</td>\n",
       "      <td>1.0</td>\n",
       "      <td>0.00000</td>\n",
       "      <td>NaN</td>\n",
       "      <td>NaN</td>\n",
       "    </tr>\n",
       "    <tr>\n",
       "      <th>415</th>\n",
       "      <td>ktt9_antibiotics</td>\n",
       "      <td>practice</td>\n",
       "      <td>P84605</td>\n",
       "      <td>FERNCLOUGH SURGERY</td>\n",
       "      <td>2015-02-01</td>\n",
       "      <td>1.0</td>\n",
       "      <td>1089.97012</td>\n",
       "      <td>0.000917</td>\n",
       "      <td>0.242378</td>\n",
       "    </tr>\n",
       "    <tr>\n",
       "      <th>2633</th>\n",
       "      <td>ktt9_antibiotics</td>\n",
       "      <td>practice</td>\n",
       "      <td>P84676</td>\n",
       "      <td>OSWALD ROAD MEDICAL PRACTICE</td>\n",
       "      <td>2017-01-01</td>\n",
       "      <td>1.0</td>\n",
       "      <td>0.00000</td>\n",
       "      <td>NaN</td>\n",
       "      <td>NaN</td>\n",
       "    </tr>\n",
       "  </tbody>\n",
       "</table>\n",
       "</div>"
      ],
      "text/plain": [
       "               measure  org_type  org_id                      org_name  \\\n",
       "2770  ktt9_antibiotics  practice  P84676  OSWALD ROAD MEDICAL PRACTICE   \n",
       "415   ktt9_antibiotics  practice  P84605            FERNCLOUGH SURGERY   \n",
       "2633  ktt9_antibiotics  practice  P84676  OSWALD ROAD MEDICAL PRACTICE   \n",
       "\n",
       "            date  numerator  denominator  calc_value  percentile  \n",
       "2770  2017-02-01        1.0      0.00000         NaN         NaN  \n",
       "415   2015-02-01        1.0   1089.97012    0.000917    0.242378  \n",
       "2633  2017-01-01        1.0      0.00000         NaN         NaN  "
      ]
     },
     "execution_count": 9,
     "metadata": {},
     "output_type": "execute_result"
    }
   ],
   "source": [
    "# step 9 Filter out all rows with 0 prescriptions\n",
    "df_SF = dataframe_Sort[AntiP]\n",
    "df_SF.head(3)"
   ]
  },
  {
   "cell_type": "code",
   "execution_count": 10,
   "metadata": {},
   "outputs": [
    {
     "data": {
      "text/plain": [
       "1.0"
      ]
     },
     "execution_count": 10,
     "metadata": {},
     "output_type": "execute_result"
    }
   ],
   "source": [
    "#Check all rows with 0 prescriptions have been removed\n",
    "min(df_SF.numerator) # check minimum value is not 0.0"
   ]
  },
  {
   "cell_type": "code",
   "execution_count": 11,
   "metadata": {},
   "outputs": [
    {
     "name": "stdout",
     "output_type": "stream",
     "text": [
      "219.0\n"
     ]
    }
   ],
   "source": [
    "#Calculate IQR\n",
    "#Q1\n",
    "q1 = df_SF['numerator'].quantile(0.25)\n",
    "#Q3\n",
    "q3 = df_SF['numerator'].quantile(0.75) \n",
    "#IQR\n",
    "iqr=q3-q1\n",
    "print(iqr)"
   ]
  },
  {
   "cell_type": "code",
   "execution_count": 12,
   "metadata": {},
   "outputs": [],
   "source": [
    "#Calclate lower limit for outliers\n",
    "LowOut = q1 - 1.5 * iqr"
   ]
  },
  {
   "cell_type": "code",
   "execution_count": 13,
   "metadata": {},
   "outputs": [
    {
     "data": {
      "text/plain": [
       "724.5"
      ]
     },
     "execution_count": 13,
     "metadata": {},
     "output_type": "execute_result"
    }
   ],
   "source": [
    "#Calculate upper limit for outliers\n",
    "HighOut = q3 + 1.5 * iqr\n",
    "HighOut"
   ]
  },
  {
   "cell_type": "code",
   "execution_count": 14,
   "metadata": {},
   "outputs": [
    {
     "data": {
      "text/plain": [
       "2770    False\n",
       "415     False\n",
       "2633    False\n",
       "3300    False\n",
       "651     False\n",
       "2840    False\n",
       "Name: numerator, dtype: bool"
      ]
     },
     "execution_count": 14,
     "metadata": {},
     "output_type": "execute_result"
    }
   ],
   "source": [
    "# TEST:filtering Values between Q1-1.5IQR and Q3+1.5IQR\n",
    "# See https://stackoverflow.com/questions/34782063/how-to-use-pandas-filter-with-iqr\n",
    "#Are Outliers present?\n",
    "LowOutliers = df_SF['numerator']<=LowOut\n",
    "HighOutliers = df_SF['numerator']>=HighOut\n",
    "HighOutliers.tail(6)\n",
    "HighOutliers.head(6)"
   ]
  },
  {
   "cell_type": "code",
   "execution_count": 15,
   "metadata": {},
   "outputs": [
    {
     "data": {
      "text/html": [
       "<div>\n",
       "<style scoped>\n",
       "    .dataframe tbody tr th:only-of-type {\n",
       "        vertical-align: middle;\n",
       "    }\n",
       "\n",
       "    .dataframe tbody tr th {\n",
       "        vertical-align: top;\n",
       "    }\n",
       "\n",
       "    .dataframe thead th {\n",
       "        text-align: right;\n",
       "    }\n",
       "</style>\n",
       "<table border=\"1\" class=\"dataframe\">\n",
       "  <thead>\n",
       "    <tr style=\"text-align: right;\">\n",
       "      <th></th>\n",
       "      <th>measure</th>\n",
       "      <th>org_type</th>\n",
       "      <th>org_id</th>\n",
       "      <th>org_name</th>\n",
       "      <th>date</th>\n",
       "      <th>numerator</th>\n",
       "      <th>denominator</th>\n",
       "      <th>calc_value</th>\n",
       "      <th>percentile</th>\n",
       "    </tr>\n",
       "  </thead>\n",
       "  <tbody>\n",
       "    <tr>\n",
       "      <th>4913</th>\n",
       "      <td>ktt9_antibiotics</td>\n",
       "      <td>practice</td>\n",
       "      <td>P84024</td>\n",
       "      <td>BOWLAND MEDICAL PRACTICE</td>\n",
       "      <td>2019-01-01</td>\n",
       "      <td>725.0</td>\n",
       "      <td>4197.163098</td>\n",
       "      <td>0.172736</td>\n",
       "      <td>99.227025</td>\n",
       "    </tr>\n",
       "    <tr>\n",
       "      <th>2168</th>\n",
       "      <td>ktt9_antibiotics</td>\n",
       "      <td>practice</td>\n",
       "      <td>P84029</td>\n",
       "      <td>BENCHILL MEDICAL PRACTICE</td>\n",
       "      <td>2016-08-01</td>\n",
       "      <td>725.0</td>\n",
       "      <td>5145.058829</td>\n",
       "      <td>0.140912</td>\n",
       "      <td>98.956269</td>\n",
       "    </tr>\n",
       "    <tr>\n",
       "      <th>550</th>\n",
       "      <td>ktt9_antibiotics</td>\n",
       "      <td>practice</td>\n",
       "      <td>P84024</td>\n",
       "      <td>BOWLAND MEDICAL PRACTICE</td>\n",
       "      <td>2015-03-01</td>\n",
       "      <td>726.0</td>\n",
       "      <td>4109.562702</td>\n",
       "      <td>0.176661</td>\n",
       "      <td>98.239571</td>\n",
       "    </tr>\n",
       "  </tbody>\n",
       "</table>\n",
       "</div>"
      ],
      "text/plain": [
       "               measure  org_type  org_id                   org_name  \\\n",
       "4913  ktt9_antibiotics  practice  P84024   BOWLAND MEDICAL PRACTICE   \n",
       "2168  ktt9_antibiotics  practice  P84029  BENCHILL MEDICAL PRACTICE   \n",
       "550   ktt9_antibiotics  practice  P84024   BOWLAND MEDICAL PRACTICE   \n",
       "\n",
       "            date  numerator  denominator  calc_value  percentile  \n",
       "4913  2019-01-01      725.0  4197.163098    0.172736   99.227025  \n",
       "2168  2016-08-01      725.0  5145.058829    0.140912   98.956269  \n",
       "550   2015-03-01      726.0  4109.562702    0.176661   98.239571  "
      ]
     },
     "execution_count": 15,
     "metadata": {},
     "output_type": "execute_result"
    }
   ],
   "source": [
    "# Filter out all rows with high and low outliers \n",
    "Outliers = df_SF[(df_SF['numerator'] < LowOut) | (df_SF['numerator'] > HighOut)] #|= OR\n",
    "Outliers.head(3)"
   ]
  },
  {
   "cell_type": "code",
   "execution_count": 16,
   "metadata": {},
   "outputs": [
    {
     "name": "stdout",
     "output_type": "stream",
     "text": [
      "This dataset contains 154 Outliers, represented by the circles in the boxplot below.\n"
     ]
    }
   ],
   "source": [
    "#count number of outliers and print message to inform the user\n",
    "NoOutliers = len(Outliers['numerator'])\n",
    "print('This dataset contains', NoOutliers, 'Outliers, represented by the circles in the boxplot below.')"
   ]
  },
  {
   "cell_type": "code",
   "execution_count": 17,
   "metadata": {},
   "outputs": [
    {
     "data": {
      "text/plain": [
       "{'whiskers': [<matplotlib.lines.Line2D at 0x7fc638abcf98>,\n",
       "  <matplotlib.lines.Line2D at 0x7fc638abcf60>],\n",
       " 'caps': [<matplotlib.lines.Line2D at 0x7fc638a57668>,\n",
       "  <matplotlib.lines.Line2D at 0x7fc638a579b0>],\n",
       " 'boxes': [<matplotlib.lines.Line2D at 0x7fc638abcb70>],\n",
       " 'medians': [<matplotlib.lines.Line2D at 0x7fc638a57cf8>],\n",
       " 'fliers': [<matplotlib.lines.Line2D at 0x7fc638a57dd8>],\n",
       " 'means': []}"
      ]
     },
     "execution_count": 17,
     "metadata": {},
     "output_type": "execute_result"
    }
   ],
   "source": [
    "#plot boxplot for outliers...\n",
    "import matplotlib\n",
    "import matplotlib.pyplot as plt\n",
    "plt.boxplot(Outliers.numerator)"
   ]
  },
  {
   "cell_type": "code",
   "execution_count": 18,
   "metadata": {},
   "outputs": [],
   "source": [
    "# TODO: clean up code - remove test lines\n",
    "#Improve annotations/comments\n",
    "#Improve boxplot\n",
    "#Combine code branches"
   ]
  },
  {
   "cell_type": "code",
   "execution_count": 19,
   "metadata": {},
   "outputs": [
    {
     "name": "stdout",
     "output_type": "stream",
     "text": [
      "This is a list of all the GP practices where antibioitc prescrition numbers have been identified as outliers: ['BOWLAND MEDICAL PRACTICE' 'BENCHILL MEDICAL PRACTICE'\n",
      " 'THE AVENUE MEDICAL CENTRE' 'VALENTINE MEDICAL CENTRE'\n",
      " 'NEW COLLEGIATE MEDICAL CENTRE' \"ST GEORGE'S MEDICAL CENTRE\"\n",
      " 'GORTON MEDICAL CENTRE' 'DIDSBURY MEDICAL CENTRE - DR WHITAKER'\n",
      " 'NORTHENDEN GROUP PRACTICE' 'BODEY MEDICAL CENTRE'\n",
      " 'PEEL HALL MEDICAL CENTRE' 'THE ROBERT DARBISHIRE PRACTICE'\n",
      " 'CITY HEALTH CENTRE']\n"
     ]
    }
   ],
   "source": [
    "# list unique name of practices with prescription outliers.\n",
    "#Is there a trend?\n",
    "GPlist=Outliers.org_name.unique()\n",
    "print('This is a list of all the GP practices where antibioitc prescrition numbers have been identified as outliers:',\n",
    "     GPlist)"
   ]
  },
  {
   "cell_type": "code",
   "execution_count": 20,
   "metadata": {},
   "outputs": [],
   "source": [
    "Datelist=Outliers.date.unique()"
   ]
  },
  {
   "cell_type": "code",
   "execution_count": 21,
   "metadata": {},
   "outputs": [
    {
     "data": {
      "text/html": [
       "<div>\n",
       "<style scoped>\n",
       "    .dataframe tbody tr th:only-of-type {\n",
       "        vertical-align: middle;\n",
       "    }\n",
       "\n",
       "    .dataframe tbody tr th {\n",
       "        vertical-align: top;\n",
       "    }\n",
       "\n",
       "    .dataframe thead th {\n",
       "        text-align: right;\n",
       "    }\n",
       "</style>\n",
       "<table border=\"1\" class=\"dataframe\">\n",
       "  <thead>\n",
       "    <tr style=\"text-align: right;\">\n",
       "      <th></th>\n",
       "      <th>measure</th>\n",
       "      <th>org_type</th>\n",
       "      <th>org_id</th>\n",
       "      <th>org_name</th>\n",
       "      <th>date</th>\n",
       "      <th>numerator</th>\n",
       "      <th>denominator</th>\n",
       "      <th>calc_value</th>\n",
       "      <th>percentile</th>\n",
       "    </tr>\n",
       "  </thead>\n",
       "  <tbody>\n",
       "    <tr>\n",
       "      <th>278</th>\n",
       "      <td>ktt9_antibiotics</td>\n",
       "      <td>practice</td>\n",
       "      <td>Y02849</td>\n",
       "      <td>CITY HEALTH CENTRE</td>\n",
       "      <td>2014-12-01</td>\n",
       "      <td>854.0</td>\n",
       "      <td>3302.252596</td>\n",
       "      <td>0.258611</td>\n",
       "      <td>98.944557</td>\n",
       "    </tr>\n",
       "    <tr>\n",
       "      <th>2702</th>\n",
       "      <td>ktt9_antibiotics</td>\n",
       "      <td>practice</td>\n",
       "      <td>Y02849</td>\n",
       "      <td>CITY HEALTH CENTRE</td>\n",
       "      <td>2017-02-01</td>\n",
       "      <td>857.0</td>\n",
       "      <td>4493.070547</td>\n",
       "      <td>0.190738</td>\n",
       "      <td>99.240506</td>\n",
       "    </tr>\n",
       "    <tr>\n",
       "      <th>1862</th>\n",
       "      <td>ktt9_antibiotics</td>\n",
       "      <td>practice</td>\n",
       "      <td>Y02849</td>\n",
       "      <td>CITY HEALTH CENTRE</td>\n",
       "      <td>2016-05-01</td>\n",
       "      <td>881.0</td>\n",
       "      <td>3880.348166</td>\n",
       "      <td>0.227041</td>\n",
       "      <td>99.370079</td>\n",
       "    </tr>\n",
       "  </tbody>\n",
       "</table>\n",
       "</div>"
      ],
      "text/plain": [
       "               measure  org_type  org_id            org_name        date  \\\n",
       "278   ktt9_antibiotics  practice  Y02849  CITY HEALTH CENTRE  2014-12-01   \n",
       "2702  ktt9_antibiotics  practice  Y02849  CITY HEALTH CENTRE  2017-02-01   \n",
       "1862  ktt9_antibiotics  practice  Y02849  CITY HEALTH CENTRE  2016-05-01   \n",
       "\n",
       "      numerator  denominator  calc_value  percentile  \n",
       "278       854.0  3302.252596    0.258611   98.944557  \n",
       "2702      857.0  4493.070547    0.190738   99.240506  \n",
       "1862      881.0  3880.348166    0.227041   99.370079  "
      ]
     },
     "execution_count": 21,
     "metadata": {},
     "output_type": "execute_result"
    }
   ],
   "source": [
    "Outliers[Outliers['org_name'].str.match('CITY HEALTH CENTRE')].head(3)\n",
    "#Add line to Sam's graph of outlier range (same for all datasets)\n"
   ]
  },
  {
   "cell_type": "code",
   "execution_count": null,
   "metadata": {},
   "outputs": [],
   "source": [
    "\n"
   ]
  },
  {
   "cell_type": "code",
   "execution_count": null,
   "metadata": {},
   "outputs": [],
   "source": []
  }
 ],
 "metadata": {
  "kernelspec": {
   "display_name": "Python 3",
   "language": "python",
   "name": "python3"
  },
  "language_info": {
   "codemirror_mode": {
    "name": "ipython",
    "version": 3
   },
   "file_extension": ".py",
   "mimetype": "text/x-python",
   "name": "python",
   "nbconvert_exporter": "python",
   "pygments_lexer": "ipython3",
   "version": "3.7.3"
  }
 },
 "nbformat": 4,
 "nbformat_minor": 2
}
