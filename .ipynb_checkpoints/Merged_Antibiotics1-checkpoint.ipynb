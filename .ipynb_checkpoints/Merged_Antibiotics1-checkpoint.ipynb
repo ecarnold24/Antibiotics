{
 "cells": [
  {
   "cell_type": "code",
   "execution_count": 1,
   "metadata": {},
   "outputs": [],
   "source": [
    "#step 1 import required packages\n",
    "import pandas as pd # load pandas package for importing csv files in correct format\n",
    "# import as defines the identifier you want to use for the function e.g in this case \n",
    "# pd will call the pandas package\n",
    "import matplotlib # load matplotlib package for plotting graphs\n",
    "import os"
   ]
  },
  {
   "cell_type": "code",
   "execution_count": 2,
   "metadata": {},
   "outputs": [],
   "source": [
    "#step 2 load open prescribing measures data to filter out a subset for testing all scripts\n",
    "data = pd.read_csv('measures.csv', sep=',') #data is sepperated by , commas"
   ]
  },
  {
   "cell_type": "code",
   "execution_count": 3,
   "metadata": {},
   "outputs": [
    {
     "data": {
      "text/html": [
       "<div>\n",
       "<style scoped>\n",
       "    .dataframe tbody tr th:only-of-type {\n",
       "        vertical-align: middle;\n",
       "    }\n",
       "\n",
       "    .dataframe tbody tr th {\n",
       "        vertical-align: top;\n",
       "    }\n",
       "\n",
       "    .dataframe thead th {\n",
       "        text-align: right;\n",
       "    }\n",
       "</style>\n",
       "<table border=\"1\" class=\"dataframe\">\n",
       "  <thead>\n",
       "    <tr style=\"text-align: right;\">\n",
       "      <th></th>\n",
       "      <th>measure</th>\n",
       "      <th>org_type</th>\n",
       "      <th>org_id</th>\n",
       "      <th>org_name</th>\n",
       "      <th>date</th>\n",
       "      <th>numerator</th>\n",
       "      <th>denominator</th>\n",
       "      <th>calc_value</th>\n",
       "      <th>percentile</th>\n",
       "    </tr>\n",
       "  </thead>\n",
       "  <tbody>\n",
       "    <tr>\n",
       "      <th>0</th>\n",
       "      <td>ktt9_antibiotics</td>\n",
       "      <td>practice</td>\n",
       "      <td>P84650</td>\n",
       "      <td>THE ALEXANDRA PRACTICE</td>\n",
       "      <td>2014-10-01</td>\n",
       "      <td>199.0</td>\n",
       "      <td>3106.653507</td>\n",
       "      <td>0.064056</td>\n",
       "      <td>9.181078</td>\n",
       "    </tr>\n",
       "    <tr>\n",
       "      <th>1</th>\n",
       "      <td>ktt9_antibiotics</td>\n",
       "      <td>practice</td>\n",
       "      <td>P84673</td>\n",
       "      <td>ANCOATS URBAN VILLAGE MEDICAL PRACTICE</td>\n",
       "      <td>2014-10-01</td>\n",
       "      <td>463.0</td>\n",
       "      <td>4252.799604</td>\n",
       "      <td>0.108869</td>\n",
       "      <td>75.864700</td>\n",
       "    </tr>\n",
       "    <tr>\n",
       "      <th>2</th>\n",
       "      <td>ktt9_antibiotics</td>\n",
       "      <td>practice</td>\n",
       "      <td>P84071</td>\n",
       "      <td>WILBRAHAM SURGERY</td>\n",
       "      <td>2014-10-01</td>\n",
       "      <td>219.0</td>\n",
       "      <td>2275.856965</td>\n",
       "      <td>0.096227</td>\n",
       "      <td>57.540692</td>\n",
       "    </tr>\n",
       "  </tbody>\n",
       "</table>\n",
       "</div>"
      ],
      "text/plain": [
       "            measure  org_type  org_id                                org_name  \\\n",
       "0  ktt9_antibiotics  practice  P84650                  THE ALEXANDRA PRACTICE   \n",
       "1  ktt9_antibiotics  practice  P84673  ANCOATS URBAN VILLAGE MEDICAL PRACTICE   \n",
       "2  ktt9_antibiotics  practice  P84071                       WILBRAHAM SURGERY   \n",
       "\n",
       "         date  numerator  denominator  calc_value  percentile  \n",
       "0  2014-10-01      199.0  3106.653507    0.064056    9.181078  \n",
       "1  2014-10-01      463.0  4252.799604    0.108869   75.864700  \n",
       "2  2014-10-01      219.0  2275.856965    0.096227   57.540692  "
      ]
     },
     "execution_count": 3,
     "metadata": {},
     "output_type": "execute_result"
    }
   ],
   "source": [
    "#step 3 check data has imported correctly \n",
    "data.head(3) # Show top 3 entries to confirm successful data import"
   ]
  },
  {
   "cell_type": "code",
   "execution_count": 4,
   "metadata": {},
   "outputs": [
    {
     "data": {
      "text/html": [
       "<div>\n",
       "<style scoped>\n",
       "    .dataframe tbody tr th:only-of-type {\n",
       "        vertical-align: middle;\n",
       "    }\n",
       "\n",
       "    .dataframe tbody tr th {\n",
       "        vertical-align: top;\n",
       "    }\n",
       "\n",
       "    .dataframe thead th {\n",
       "        text-align: right;\n",
       "    }\n",
       "</style>\n",
       "<table border=\"1\" class=\"dataframe\">\n",
       "  <thead>\n",
       "    <tr style=\"text-align: right;\">\n",
       "      <th></th>\n",
       "      <th>measure</th>\n",
       "      <th>org_type</th>\n",
       "      <th>org_id</th>\n",
       "      <th>org_name</th>\n",
       "      <th>date</th>\n",
       "      <th>numerator</th>\n",
       "      <th>denominator</th>\n",
       "      <th>calc_value</th>\n",
       "      <th>percentile</th>\n",
       "    </tr>\n",
       "  </thead>\n",
       "  <tbody>\n",
       "    <tr>\n",
       "      <th>0</th>\n",
       "      <td>ktt9_antibiotics</td>\n",
       "      <td>practice</td>\n",
       "      <td>P84650</td>\n",
       "      <td>THE ALEXANDRA PRACTICE</td>\n",
       "      <td>2014-10-01</td>\n",
       "      <td>199.0</td>\n",
       "      <td>3106.653507</td>\n",
       "      <td>0.064056</td>\n",
       "      <td>9.181078</td>\n",
       "    </tr>\n",
       "    <tr>\n",
       "      <th>1</th>\n",
       "      <td>ktt9_antibiotics</td>\n",
       "      <td>practice</td>\n",
       "      <td>P84673</td>\n",
       "      <td>ANCOATS URBAN VILLAGE MEDICAL PRACTICE</td>\n",
       "      <td>2014-10-01</td>\n",
       "      <td>463.0</td>\n",
       "      <td>4252.799604</td>\n",
       "      <td>0.108869</td>\n",
       "      <td>75.864700</td>\n",
       "    </tr>\n",
       "    <tr>\n",
       "      <th>2</th>\n",
       "      <td>ktt9_antibiotics</td>\n",
       "      <td>practice</td>\n",
       "      <td>P84071</td>\n",
       "      <td>WILBRAHAM SURGERY</td>\n",
       "      <td>2014-10-01</td>\n",
       "      <td>219.0</td>\n",
       "      <td>2275.856965</td>\n",
       "      <td>0.096227</td>\n",
       "      <td>57.540692</td>\n",
       "    </tr>\n",
       "  </tbody>\n",
       "</table>\n",
       "</div>"
      ],
      "text/plain": [
       "            measure  org_type  org_id                                org_name  \\\n",
       "0  ktt9_antibiotics  practice  P84650                  THE ALEXANDRA PRACTICE   \n",
       "1  ktt9_antibiotics  practice  P84673  ANCOATS URBAN VILLAGE MEDICAL PRACTICE   \n",
       "2  ktt9_antibiotics  practice  P84071                       WILBRAHAM SURGERY   \n",
       "\n",
       "         date  numerator  denominator  calc_value  percentile  \n",
       "0  2014-10-01      199.0  3106.653507    0.064056    9.181078  \n",
       "1  2014-10-01      463.0  4252.799604    0.108869   75.864700  \n",
       "2  2014-10-01      219.0  2275.856965    0.096227   57.540692  "
      ]
     },
     "execution_count": 4,
     "metadata": {},
     "output_type": "execute_result"
    }
   ],
   "source": [
    "dataframe = pd.DataFrame(data) #Convert imported data to a dataframe using pandas\n",
    "dataframe.head(3) #view the first three lines of the dataframe to check import has been successful"
   ]
  },
  {
   "cell_type": "code",
   "execution_count": 5,
   "metadata": {},
   "outputs": [
    {
     "data": {
      "text/html": [
       "<div>\n",
       "<style scoped>\n",
       "    .dataframe tbody tr th:only-of-type {\n",
       "        vertical-align: middle;\n",
       "    }\n",
       "\n",
       "    .dataframe tbody tr th {\n",
       "        vertical-align: top;\n",
       "    }\n",
       "\n",
       "    .dataframe thead th {\n",
       "        text-align: right;\n",
       "    }\n",
       "</style>\n",
       "<table border=\"1\" class=\"dataframe\">\n",
       "  <thead>\n",
       "    <tr style=\"text-align: right;\">\n",
       "      <th></th>\n",
       "      <th>measure</th>\n",
       "      <th>org_type</th>\n",
       "      <th>org_id</th>\n",
       "      <th>org_name</th>\n",
       "      <th>date</th>\n",
       "      <th>numerator</th>\n",
       "      <th>denominator</th>\n",
       "      <th>calc_value</th>\n",
       "      <th>percentile</th>\n",
       "    </tr>\n",
       "  </thead>\n",
       "  <tbody>\n",
       "    <tr>\n",
       "      <th>2050</th>\n",
       "      <td>ktt9_antibiotics</td>\n",
       "      <td>practice</td>\n",
       "      <td>P84659</td>\n",
       "      <td>DR HUSSAIN'S PRACTICE</td>\n",
       "      <td>2016-07-01</td>\n",
       "      <td>0.0</td>\n",
       "      <td>0.0</td>\n",
       "      <td>NaN</td>\n",
       "      <td>NaN</td>\n",
       "    </tr>\n",
       "    <tr>\n",
       "      <th>1003</th>\n",
       "      <td>ktt9_antibiotics</td>\n",
       "      <td>practice</td>\n",
       "      <td>P84063</td>\n",
       "      <td>DR CHEN &amp; DAVIS</td>\n",
       "      <td>2015-08-01</td>\n",
       "      <td>0.0</td>\n",
       "      <td>0.0</td>\n",
       "      <td>NaN</td>\n",
       "      <td>NaN</td>\n",
       "    </tr>\n",
       "    <tr>\n",
       "      <th>1011</th>\n",
       "      <td>ktt9_antibiotics</td>\n",
       "      <td>practice</td>\n",
       "      <td>P84057</td>\n",
       "      <td>KAYA PRACTICE</td>\n",
       "      <td>2015-08-01</td>\n",
       "      <td>0.0</td>\n",
       "      <td>0.0</td>\n",
       "      <td>NaN</td>\n",
       "      <td>NaN</td>\n",
       "    </tr>\n",
       "    <tr>\n",
       "      <th>3978</th>\n",
       "      <td>ktt9_antibiotics</td>\n",
       "      <td>practice</td>\n",
       "      <td>P84623</td>\n",
       "      <td>ALEESHAN MEDICAL CENTRE</td>\n",
       "      <td>2018-03-01</td>\n",
       "      <td>0.0</td>\n",
       "      <td>0.0</td>\n",
       "      <td>NaN</td>\n",
       "      <td>NaN</td>\n",
       "    </tr>\n",
       "    <tr>\n",
       "      <th>1014</th>\n",
       "      <td>ktt9_antibiotics</td>\n",
       "      <td>practice</td>\n",
       "      <td>P84677</td>\n",
       "      <td>DIDSBURY MEDICAL CENTRE- DR ASHWORTH</td>\n",
       "      <td>2015-08-01</td>\n",
       "      <td>0.0</td>\n",
       "      <td>0.0</td>\n",
       "      <td>NaN</td>\n",
       "      <td>NaN</td>\n",
       "    </tr>\n",
       "    <tr>\n",
       "      <th>3974</th>\n",
       "      <td>ktt9_antibiotics</td>\n",
       "      <td>practice</td>\n",
       "      <td>P84063</td>\n",
       "      <td>DR CHEN &amp; DAVIS</td>\n",
       "      <td>2018-03-01</td>\n",
       "      <td>0.0</td>\n",
       "      <td>0.0</td>\n",
       "      <td>NaN</td>\n",
       "      <td>NaN</td>\n",
       "    </tr>\n",
       "  </tbody>\n",
       "</table>\n",
       "</div>"
      ],
      "text/plain": [
       "               measure  org_type  org_id  \\\n",
       "2050  ktt9_antibiotics  practice  P84659   \n",
       "1003  ktt9_antibiotics  practice  P84063   \n",
       "1011  ktt9_antibiotics  practice  P84057   \n",
       "3978  ktt9_antibiotics  practice  P84623   \n",
       "1014  ktt9_antibiotics  practice  P84677   \n",
       "3974  ktt9_antibiotics  practice  P84063   \n",
       "\n",
       "                                  org_name        date  numerator  \\\n",
       "2050                 DR HUSSAIN'S PRACTICE  2016-07-01        0.0   \n",
       "1003                       DR CHEN & DAVIS  2015-08-01        0.0   \n",
       "1011                         KAYA PRACTICE  2015-08-01        0.0   \n",
       "3978               ALEESHAN MEDICAL CENTRE  2018-03-01        0.0   \n",
       "1014  DIDSBURY MEDICAL CENTRE- DR ASHWORTH  2015-08-01        0.0   \n",
       "3974                       DR CHEN & DAVIS  2018-03-01        0.0   \n",
       "\n",
       "      denominator  calc_value  percentile  \n",
       "2050          0.0         NaN         NaN  \n",
       "1003          0.0         NaN         NaN  \n",
       "1011          0.0         NaN         NaN  \n",
       "3978          0.0         NaN         NaN  \n",
       "1014          0.0         NaN         NaN  \n",
       "3974          0.0         NaN         NaN  "
      ]
     },
     "execution_count": 5,
     "metadata": {},
     "output_type": "execute_result"
    }
   ],
   "source": [
    "dataframe_Sort = dataframe.sort_values(\"numerator\") #sort dataframe by number of prescriptions\n",
    "#To sort the dataframe by additional variables (i.e. collemns) e.g. then by date add ', \"date\"' after \"numerator\"\n",
    "#This process is described in the following URL: \n",
    "#https://www.geeksforgeeks.org/python-pandas-dataframe-sort_values-set-2/\n",
    "dataframe_Sort.head(6) # view the first 6 lines of the dataframe to check the data has been sorted correctly"
   ]
  },
  {
   "cell_type": "code",
   "execution_count": 6,
   "metadata": {},
   "outputs": [
    {
     "name": "stdout",
     "output_type": "stream",
     "text": [
      "This dataset contains 345 entries with 0 prescriptions. These entries will be removed from the dataset.\n"
     ]
    }
   ],
   "source": [
    "#successfull sorthing as first 6 rows = 0.00\n",
    "#database entries (rows) with 0.0 prescriptions need to be removed from the database as these are artifacts\n",
    "#if these values are not removed outlier values will be caluclated incorrectly.\n",
    "#No active surgery will have 0 prescriptions\n",
    "PCo = len(dataframe_Sort[dataframe_Sort['numerator'] == 0.0]) #count number of rows with 0 prescriptions\n",
    "if PCo>0: #Create an if statement to interpret the presence of rows with 0 prescriptions\n",
    "    print('This dataset contains', PCo, \n",
    "          'entries with 0 prescriptions. These entries will be removed from the dataset.')\n",
    "            #print warning meassage to user outlining the number of blank rows detected using an if statement \n",
    "else:\n",
    "    print('no errors were detected') #Notify the user if no rows were found with zero prescriptions"
   ]
  },
  {
   "cell_type": "code",
   "execution_count": 11,
   "metadata": {},
   "outputs": [
    {
     "name": "stdout",
     "output_type": "stream",
     "text": [
      "The smallst number of prescriptions is: 1.0\n"
     ]
    }
   ],
   "source": [
    "# step 8 Identify all database entries with >0.0 prescriptions and remove\n",
    "AntiP =  dataframe_Sort['numerator']>0.0 #Identify all rows with a prescription value greater than 0.0\n",
    "AntiP.head(3) # Values =0 ='FALSE'\n",
    "AntiP.tail(3) # Values >0 ='TRUE'\n",
    "df_SF = dataframe_Sort[AntiP] #Filter the dataset, keeping all rows with prescriptions >0 (i.e. = 'TRUE')\n",
    "df_SF.head(3)#check rows with 0 have been filtered out of the dataset\n",
    "#First values of prescripitions in dataset = 1.0\n",
    "#Rows with values of 0 have been filtered correctly\n",
    "#Antibiotics per 1000. Values =0.0 = <1 prescription per 1000 people? Check openprescribing.net description?\n",
    "#Check all rows with 0 prescriptions have been removed\n",
    "df_SF_min = min(df_SF.numerator) # check minimum value is not 0.0\n",
    "print('The smallst number of prescriptions is:', df_SF_min)"
   ]
  },
  {
   "cell_type": "code",
   "execution_count": 15,
   "metadata": {},
   "outputs": [
    {
     "name": "stdout",
     "output_type": "stream",
     "text": [
      "The interquartile range: 219.0\n"
     ]
    }
   ],
   "source": [
    "#Calculate IQR\n",
    "q1 = df_SF['numerator'].quantile(0.25)#Q1\n",
    "q3 = df_SF['numerator'].quantile(0.75)#Q3\n",
    "iqr=df_SF['numerator'].quantile(0.75)-df_SF['numerator'].quantile(0.25) #calculate IQR\n",
    "print(\"The interquartile range:\", iqr) #print IQR"
   ]
  },
  {
   "cell_type": "code",
   "execution_count": 18,
   "metadata": {},
   "outputs": [
    {
     "name": "stdout",
     "output_type": "stream",
     "text": [
      "The lower boundary for outliers is: -151.5\n"
     ]
    }
   ],
   "source": [
    "#Calclate lower limit for outliers\n",
    "LowOut = q1 - 1.5 * iqr #lower bound\n",
    "print('The lower boundary for outliers is:', LowOut) #print lower boundary"
   ]
  },
  {
   "cell_type": "code",
   "execution_count": 20,
   "metadata": {},
   "outputs": [
    {
     "name": "stdout",
     "output_type": "stream",
     "text": [
      "The upper boundary for outliers is: 724.5\n"
     ]
    }
   ],
   "source": [
    "#Calculate upper limit for outliers\n",
    "HighOut = q3 + 1.5 * iqr #upper bound\n",
    "print('The upper boundary for outliers is:', HighOut) #print upper boundary"
   ]
  },
  {
   "cell_type": "code",
   "execution_count": null,
   "metadata": {},
   "outputs": [],
   "source": []
  },
  {
   "cell_type": "code",
   "execution_count": null,
   "metadata": {},
   "outputs": [],
   "source": [
    "# TEST:filtering Values between Q1-1.5IQR and Q3+1.5IQR\n",
    "# See https://stackoverflow.com/questions/34782063/how-to-use-pandas-filter-with-iqr\n",
    "#Are Outliers present?\n",
    "LowOutliers = df_SF['numerator']<=LowOut\n",
    "HighOutliers = df_SF['numerator']>=HighOut\n",
    "HighOutliers.tail(6)\n",
    "HighOutliers.head(6)"
   ]
  },
  {
   "cell_type": "code",
   "execution_count": null,
   "metadata": {},
   "outputs": [],
   "source": [
    "# Filter out all rows with high and low outliers \n",
    "Outliers = df_SF[(df_SF['numerator'] < LowOut) | (df_SF['numerator'] > HighOut)] #|= OR\n",
    "Outliers.head(3)"
   ]
  },
  {
   "cell_type": "code",
   "execution_count": null,
   "metadata": {},
   "outputs": [],
   "source": [
    "#count number of outliers and print message to inform the user\n",
    "NoOutliers = len(Outliers['numerator'])\n",
    "print('This dataset contains', NoOutliers, 'Outliers, represented by the circles in the boxplot below.')"
   ]
  },
  {
   "cell_type": "code",
   "execution_count": null,
   "metadata": {},
   "outputs": [],
   "source": [
    "#plot boxplot for outliers...\n",
    "import matplotlib\n",
    "import matplotlib.pyplot as plt\n",
    "plt.boxplot(Outliers.numerator)"
   ]
  },
  {
   "cell_type": "code",
   "execution_count": null,
   "metadata": {},
   "outputs": [],
   "source": [
    "# TODO: clean up code - remove test lines\n",
    "#Improve annotations/comments\n",
    "#Improve boxplot\n",
    "#Combine code branches"
   ]
  },
  {
   "cell_type": "code",
   "execution_count": null,
   "metadata": {},
   "outputs": [],
   "source": [
    "# list unique name of practices with prescription outliers.\n",
    "#Is there a trend?\n",
    "GPlist=Outliers.org_name.unique()\n",
    "print('This is a list of all the GP practices where antibioitc prescrition numbers have been identified as outliers:',\n",
    "     GPlist)"
   ]
  },
  {
   "cell_type": "code",
   "execution_count": null,
   "metadata": {},
   "outputs": [],
   "source": [
    "Datelist=Outliers.date.unique()"
   ]
  },
  {
   "cell_type": "code",
   "execution_count": null,
   "metadata": {},
   "outputs": [],
   "source": [
    "Outliers[Outliers['org_name'].str.match('CITY HEALTH CENTRE')].head(3)\n",
    "#Add line to Sam's graph of outlier range (same for all datasets)"
   ]
  },
  {
   "cell_type": "code",
   "execution_count": null,
   "metadata": {},
   "outputs": [],
   "source": [
    "##Import matplotlib for making graphs,\n",
    "##import pandas for reading in dataframe\n",
    "import matplotlib.pyplot as plt\n",
    "import matplotlib.dates as dt\n",
    "import numpy\n",
    "import pandas as pd"
   ]
  },
  {
   "cell_type": "code",
   "execution_count": null,
   "metadata": {},
   "outputs": [],
   "source": [
    "##Read in our data and assign it to variable \"data\".\n",
    "data = pd.read_csv(\"measures.csv\", sep =',')\n",
    "\n",
    "##To test we have imported data correctly,\n",
    "##import first four rows, which includes column headers\n",
    "print(data.loc[0:3,:])"
   ]
  },
  {
   "cell_type": "code",
   "execution_count": null,
   "metadata": {},
   "outputs": [],
   "source": [
    "'''The first definition provides the user the ability to view the trends data for every surgery\n",
    "within a particular geographical area.'''\n",
    "def Plot_trends_all_surgeries(data):\n",
    "    unique_org_ids = data['org_id'].unique() ##Get a list of the surgeries\n",
    "\n",
    "    ax = plt.gca() ##Set the default axis for the graph\n",
    "\n",
    "    for orgs_id in unique_org_ids: ##For each surgery in the list of unique surgery\n",
    "        new_dataframe = data[data['org_id'] == str(orgs_id)] ##Get a new dataframe subset just for the one surgery \n",
    "        graph_points = new_dataframe[['date','numerator']] ##From the new dataframe, get the date and prescription number\n",
    "    \n",
    "        graph_points.plot(x='date',y='numerator', ax = ax) ##Plot date and prescriptions on same axis for all surgeries\n",
    "\n",
    "    ax.get_legend().remove() ##Remove legend from graph, as very messy.\n",
    "    plt.gcf().autofmt_xdate() ##Format the x-axis for date data\n",
    "    plt.show() ##Show the plot\n",
    "    \n",
    "'''This function shows the summed prescribing information for every surgery within the geographical area for\n",
    "a particular timepoint. This is displayed from 2014-2019'''\n",
    "def Plot_trends_combined_surgeries(data):\n",
    "    unique_date_ids = data['date'].unique() ##Get a list of all the reporting dates\n",
    "\n",
    "    dates_axis = [] ##Initiate a list for dates\n",
    "    summed_axis = [] ##Initiate a list to sum all data for that date\n",
    "\n",
    "    for dates in unique_date_ids:\n",
    "        dates_axis.append(dates) ##Append iterative dates to date_axis list\n",
    "        new_dataframe = data[data['date'] == dates] ##Subset dataframe just for iterative date\n",
    "        summed = new_dataframe['numerator'].sum() ##Sum the prescribing column\n",
    "        summed_axis.append(summed) ##Append the sum to the list\n",
    "    \n",
    "    new_df = pd.DataFrame({'date_axis':dates_axis,'summed_axis':summed_axis}) ##Turn lists into dataframe to turn into a graph\n",
    "\n",
    "    new_df.plot(x = 'date_axis', y = 'summed_axis') ##Plot new graph\n",
    "\n",
    "    plt.gcf().autofmt_xdate() ##Format date axis\n",
    "    plt.show() ##Show the plot.\n",
    "    \n",
    "'''This function allows the user to provide the data, and provide either the name or the ID\n",
    "of a surgery, and see the trend over time just for that surgery. This can be used as an investigational\n",
    "tool into surgeries of interest (e.g outliers)\n",
    "\n",
    "Note: Using organisation names are case sensitive'''\n",
    "def Plot_trends_pick_surgeries(data, name):\n",
    "    if data['org_id'].str.endswith(name).any():\n",
    "            \n",
    "        ax = plt.gca() ##Set the default axis for the graph\n",
    "    \n",
    "        new_dataframe = data[data['org_id'] == str(name)] ##Get a new dataframe subset just for the one surgery \n",
    "        graph_points = new_dataframe[['date','numerator']] ##From the new dataframe, get the date and prescription number\n",
    "    \n",
    "        graph_points.plot(x='date',y='numerator', ax = ax) ##Plot date and prescriptions on same axis for all surgeries\n",
    "\n",
    "        ax.legend(loc = 'upper right', labels=new_dataframe.iloc[0]['org_id'])\n",
    "        plt.gcf().autofmt_xdate() ##Format the x-axis for date data\n",
    "        plt.show() ##Show the plot\n",
    "        \n",
    "    elif data['org_name'].str.endswith(name).any():\n",
    "        \n",
    "        ax = plt.gca() ##Set the default axis for the graph\n",
    "    \n",
    "        new_dataframe = data[data['org_name'] == str(name)] ##Get a new dataframe subset just for the one surgery \n",
    "        graph_points = new_dataframe[['date','numerator']] ##From the new dataframe, get the date and prescription number\n",
    "    \n",
    "        graph_points.plot(x='date',y='numerator', ax = ax) ##Plot date and prescriptions on same axis for all surgeries\n",
    "\n",
    "        ax.legend(loc = 'upper right', labels=new_dataframe.iloc[0]['org_id'])\n",
    "        plt.gcf().autofmt_xdate() ##Format the x-axis for date data\n",
    "        plt.show() ##Show the plot\n",
    "        \n",
    "        \n",
    "    else:\n",
    "        print('Could not find surgery!')\n",
    "        \n",
    "\n",
    "'''This function allows a user to pick any two surgeries and plot the prescribing information\n",
    "on the same axis for both surgeries. This can be used to directly compare the prescribing\n",
    "information for both surgeries.\n",
    "\n",
    "So far, this function only works with organisation IDs and not organisation names.'''\n",
    "def Plot_trends_two_surgeries_by_IDs(data, name1, name2):\n",
    "    if data['org_id'].str.endswith(name1).any() & data['org_id'].str.endswith(name2).any():\n",
    "    \n",
    "        ax = plt.gca() ##Set the default axis for the graph\n",
    "\n",
    "        for two_id in name1, name2: ##For each surgery in the list of unique surgery\n",
    "            new_dataframe = data[data['org_id'] == str(two_id)] ##Get a new dataframe subset just for the one surgery \n",
    "            graph_points = new_dataframe[['date','numerator']] ##From the new dataframe, get the date and prescription number\n",
    "    \n",
    "            graph_points.plot(x='date',y='numerator', ax = ax) ##Plot date and prescriptions on same axis for all surgeries\n",
    "\n",
    "        new_dataframe1 = data[data['org_id'] == str(name1)] ##Get a new dataframe subset just for the one surgery \n",
    "        legend_points1 = new_dataframe1[['org_id','org_name']] ##From the new dataframe, get the date and prescription number\n",
    "        \n",
    "        new_dataframe2 = data[data['org_id'] == str(name2)] ##Get a new dataframe subset just for the one surgery \n",
    "        legend_points2 = new_dataframe2[['org_id','org_name']] ##From the new dataframe, get the date and prescription number\n",
    "                \n",
    "        legendname1 = legend_points1.iloc[0]['org_id'] + ', ' + legend_points1.iloc[0]['org_name']\n",
    "        legendname2 = legend_points2.iloc[0]['org_id'] + ', ' + legend_points2.iloc[0]['org_name']\n",
    "        \n",
    "        ax.legend(loc='upper center', bbox_to_anchor=(0.5, 1.2), labels=(legendname1, legendname2))\n",
    "        plt.gcf().autofmt_xdate() ##Format the x-axis for date data\n",
    "        plt.show() ##Show the plot\n",
    "    \n",
    "    else:\n",
    "        print('One of the surgery IDs is incorrect!')"
   ]
  },
  {
   "cell_type": "code",
   "execution_count": null,
   "metadata": {},
   "outputs": [],
   "source": [
    "Plot_trends_all_surgeries(data)\n",
    "Plot_trends_combined_surgeries(data)\n",
    "Plot_trends_pick_surgeries(data, 'P84071')\n",
    "Plot_trends_two_surgeries_by_IDs(data, 'P84071', 'P84049')"
   ]
  },
  {
   "cell_type": "code",
   "execution_count": null,
   "metadata": {},
   "outputs": [],
   "source": [
    "unique_outlier_dates = Outliers['date'].unique() ##Get a list outliers at unique dates"
   ]
  },
  {
   "cell_type": "code",
   "execution_count": null,
   "metadata": {},
   "outputs": [],
   "source": [
    "x1 = min(data.date) #set x coordinate for earliest date\n",
    "x2 = max(data.date) # set x coordinate for latest date\n",
    "y = HighOut # set y as the upper bound for outliers\n",
    "l1 = [(x1,y),(x2,y)] #define function for line for upper bound\n",
    "x = [min(data.date),max(data.date)]\n",
    "y = [HighOut,HighOut]\n",
    "PlotOut = plt.plot(x,y) # plot line for value of upper boundary for outliers\n",
    "#TODO: add this line to the average graph above as a subplot"
   ]
  },
  {
   "cell_type": "code",
   "execution_count": null,
   "metadata": {},
   "outputs": [],
   "source": [
    "# See the following URL:\n",
    "#https://towardsdatascience.com/anomaly-detection-with-time-series-forecasting-c34c6d04b24a\n",
    "#Try to reproduce this graph for this data"
   ]
  }
 ],
 "metadata": {
  "kernelspec": {
   "display_name": "Python 3",
   "language": "python",
   "name": "python3"
  },
  "language_info": {
   "codemirror_mode": {
    "name": "ipython",
    "version": 3
   },
   "file_extension": ".py",
   "mimetype": "text/x-python",
   "name": "python",
   "nbconvert_exporter": "python",
   "pygments_lexer": "ipython3",
   "version": "3.7.3"
  }
 },
 "nbformat": 4,
 "nbformat_minor": 2
}
